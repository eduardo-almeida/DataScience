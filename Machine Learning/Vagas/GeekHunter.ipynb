{
 "cells": [
  {
   "cell_type": "markdown",
   "id": "fa93b409",
   "metadata": {},
   "source": [
    "Esta é uma vaga de um cliente da GeekHunter, candidate-se para ter acesso às informações completas sobre a empresa.\n",
    "\n",
    "Realização de análises de dados para machine learning;\n",
    "Atuação com pipelines de dados;\n",
    "Otimização de queries, entre outros.\n",
    "Inglês Avançado ou Fluente;\n",
    "Formação em áreas de ciências exatas (ex: Estatística, Matemática, Probabilidade), e métodos quantitativos;\n",
    "Experiência como Data Scientist ou Data Analyst;\n",
    "Experiência com Python para análise de dados e machine learning;\n",
    "Experiência com GCP Data e serviços de Inteligência Artificial;\n",
    "Experiência com SQL e otimização de queries\n",
    "Experiência prévia com pipelines de dados para processos de machine learning;\n",
    "\n",
    "Diferenciais\n",
    "\n",
    "Experiência prévia trabalhando com aplicações para indústria 4.0;\n",
    "Experiência prévia trabalhando pipelines de dados para processos de machine learning;\n",
    "Experiência com micros serviços, Docker.\n",
    "\n",
    "Habilidades Obrigatórias\n",
    "\n",
    "Python\n",
    "Google Cloud"
   ]
  },
  {
   "cell_type": "code",
   "execution_count": null,
   "id": "4daf49a7",
   "metadata": {},
   "outputs": [],
   "source": []
  }
 ],
 "metadata": {
  "kernelspec": {
   "display_name": "Python 3 (ipykernel)",
   "language": "python",
   "name": "python3"
  },
  "language_info": {
   "codemirror_mode": {
    "name": "ipython",
    "version": 3
   },
   "file_extension": ".py",
   "mimetype": "text/x-python",
   "name": "python",
   "nbconvert_exporter": "python",
   "pygments_lexer": "ipython3",
   "version": "3.9.12"
  }
 },
 "nbformat": 4,
 "nbformat_minor": 5
}
