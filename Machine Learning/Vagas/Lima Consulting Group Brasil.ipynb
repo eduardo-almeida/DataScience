{
 "cells": [
  {
   "cell_type": "markdown",
   "id": "a7618950",
   "metadata": {},
   "source": [
    "Desafio\n",
    "\n",
    "Nossos Cientistas de Dados lidam desafios complexos misturando conhecimentos de programação, análise e modelagem de dados, aprendizado de máquina e conhecimento pela perspectiva de áreas de negócio. A Consultoria Lima está procurando pessoas com experiência comprovada em ciência de dados para colocar a mão na massa em bases de dados com comportamentos de consumidores, criar e treinar modelos estatísticos de propensão (ex.: NBA/NBO), atribuição de resultados (ex.: atribuição de campanhas multicanais de marketing), detecção de anomalias, análises exploratórias e preditivas e outros casos de uso de dados de consumidores.\n",
    "\n",
    "Requisitos\n",
    "\n",
    "3+ anos de experiência profissional comprovada como cientista de dados, preferencialmente com uso de dados de consumidores;\n",
    "Conhecimento sólido de programação em Python ou R para manipulação de dados estruturados e não estruturados, com utilização de SQL;\n",
    "Conhecimento avançado em estatística e probabilidade, para realização de predições, estimativas, regressões, distribuição e validação estatística. Aplicação dos conhecimentos para resolução de problemas analíticos utilizando abordagens quantitativas e método científico;\n",
    "Ser capaz de fazer análises exploratórias de dados para identificação de características em conjuntos de dados e utilizar frameworks/ambientes de machine learning para criação e treinamento de modelos (ex.: Tensor Flow, SageMaker, Pytorch) e testar modelos evitando overfitting;\n",
    "Colaborar para programas de mentoria e disseminação de conhecimento em ciência de dados;\n",
    "Entender idioma inglês, para absorção de conteúdo mais recente relacionado a área;\n",
    "Procuramos pessoas com autonomia, que gostem de aprender por conta própria e possuam iniciativa para fazer a diferença no dia-a-dia.\n",
    "Diferenciais\n",
    "\n",
    "Conhecer e/ou ter aplicado algoritmos de treinamento supervisionado (ex.: regressão linear, floresta aleatória, máquinas vetoriais de apoio), não supervisionado (KNN, K-means, Hierárquico de Clustering) e de aprendizagem de reforço (Q-Learning, SARSA, Deep Q Network);\n",
    "Experiência com tecnologias modernas de manipulação de dados como Databricks, Floco de Neve, DataRobot e/ou fluxo de dados em nuvens públicas (AWS, GCP, Azure);\n",
    "Ter construído modelos de NBA/NBO e/ou atribuição de resultados;\n",
    "Conhecimento de Tecnologias de Marketing (Martech) e/ou publicidade (Adtech);\n",
    "Experiência de trabalho com dados de consumidores, mesas de desempenho ou com equipes de negócio digital."
   ]
  }
 ],
 "metadata": {
  "kernelspec": {
   "display_name": "Python 3 (ipykernel)",
   "language": "python",
   "name": "python3"
  },
  "language_info": {
   "codemirror_mode": {
    "name": "ipython",
    "version": 3
   },
   "file_extension": ".py",
   "mimetype": "text/x-python",
   "name": "python",
   "nbconvert_exporter": "python",
   "pygments_lexer": "ipython3",
   "version": "3.9.12"
  }
 },
 "nbformat": 4,
 "nbformat_minor": 5
}
