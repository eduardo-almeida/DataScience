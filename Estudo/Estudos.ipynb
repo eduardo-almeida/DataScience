{
 "cells": [
  {
   "cell_type": "markdown",
   "id": "2af9ec3e",
   "metadata": {},
   "source": [
    "AWS\n",
    "Azure \n",
    "GCP\n",
    "Power BI.\n",
    "BigQuery, Vertex AI, AI Platform, Google Cloud Storage\n"
   ]
  },
  {
   "cell_type": "code",
   "execution_count": null,
   "id": "9e76a0fc",
   "metadata": {},
   "outputs": [],
   "source": [
    "Power BI\n"
   ]
  }
 ],
 "metadata": {
  "kernelspec": {
   "display_name": "Python 3 (ipykernel)",
   "language": "python",
   "name": "python3"
  },
  "language_info": {
   "codemirror_mode": {
    "name": "ipython",
    "version": 3
   },
   "file_extension": ".py",
   "mimetype": "text/x-python",
   "name": "python",
   "nbconvert_exporter": "python",
   "pygments_lexer": "ipython3",
   "version": "3.9.13"
  }
 },
 "nbformat": 4,
 "nbformat_minor": 5
}
