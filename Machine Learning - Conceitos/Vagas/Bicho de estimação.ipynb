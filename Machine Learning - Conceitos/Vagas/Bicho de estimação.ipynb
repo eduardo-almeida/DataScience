{
 "cells": [
  {
   "cell_type": "markdown",
   "id": "c1ed4e4d",
   "metadata": {},
   "source": [
    "Nossos desafios estão relacionados à criação e melhoria de estruturas de dados e modelos que nos permitem tomar decisões mais rápidas e melhores, construindo modelos de ML para o Supply Chain,Análise de texto e sentimento utilizando técnicas de machine learning e forecast de vendas; Somos pessoas com uma abordagem orientada a dados; Trabalhando com uma mentalidade de teste e aprendizagem; Focados em alcançar resultados com uma visão centrada no cliente; Estamos entusiasmados em trabalhar com problemas de negócios desafiadores, usando tecnologia, dados e conhecimento de negócios para gerar soluções relevantes.\n",
    "\n",
    "Responsabilidades e atribuições O cientista de dados será responsável por analisar e levantar requisitos,; Definir modelagem dos dados a serem tratados; Manipulação de grandes volumes de informações de diferentes fontes e em diferentes formatos; Análise e exploração dos dados; Construção de Modelos de Machine Learning; Apoiar as áreas de negócio no uso de dados ; Interagir fortemente com diversas áreas da empresa, para entender e solucionar os projetos da área de Data Science.\n",
    "\n",
    "Requisitos e qualificações Graduação em Ciência da Computação, Estatística, Matemática, Física e áreas afins. Conhecimento em programação: Estatísticas básicas; Python/R; SQL,Databricks e Git. Capacidade de aprender rápido e capacidade de continuar aprendendo coisas novas, melhorando constantemente."
   ]
  },
  {
   "cell_type": "code",
   "execution_count": null,
   "id": "425608f3",
   "metadata": {},
   "outputs": [],
   "source": []
  }
 ],
 "metadata": {
  "kernelspec": {
   "display_name": "Python 3 (ipykernel)",
   "language": "python",
   "name": "python3"
  },
  "language_info": {
   "codemirror_mode": {
    "name": "ipython",
    "version": 3
   },
   "file_extension": ".py",
   "mimetype": "text/x-python",
   "name": "python",
   "nbconvert_exporter": "python",
   "pygments_lexer": "ipython3",
   "version": "3.9.12"
  }
 },
 "nbformat": 4,
 "nbformat_minor": 5
}
