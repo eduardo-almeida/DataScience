{
 "cells": [
  {
   "cell_type": "code",
   "execution_count": 1,
   "metadata": {},
   "outputs": [],
   "source": [
    "#!pip install opencv-python"
   ]
  },
  {
   "cell_type": "code",
   "execution_count": 2,
   "metadata": {
    "scrolled": true
   },
   "outputs": [],
   "source": [
    "import pandas as pd\n",
    "import numpy as np\n",
    "from shutil import copyfile\n",
    "import glob\n",
    "import os\n",
    "import cv2"
   ]
  },
  {
   "cell_type": "code",
   "execution_count": 9,
   "metadata": {},
   "outputs": [],
   "source": [
    "#!pip install keras"
   ]
  },
  {
   "cell_type": "code",
   "execution_count": 7,
   "metadata": {},
   "outputs": [],
   "source": [
    "#!pip install tensorflow"
   ]
  },
  {
   "cell_type": "code",
   "execution_count": 11,
   "metadata": {},
   "outputs": [],
   "source": [
    "from keras.models import Sequential\n",
    "from keras.layers import Dense, Dropout, Activation, Flatten\n",
    "from keras.layers import Conv2D, MaxPooling2D\n",
    "#from keras.layers.normalization import BatchNormalization\n",
    "from keras.preprocessing.image import ImageDataGenerator\n",
    "from sklearn.model_selection import train_test_split\n",
    "from keras.preprocessing import image\n",
    "from keras.models import load_model"
   ]
  },
  {
   "cell_type": "code",
   "execution_count": null,
   "metadata": {},
   "outputs": [],
   "source": [
    "#image generator, normalizing them to be between 0 and 1\n",
    "generator_training = ImageDataGenerator(rescale = 1./255)\n",
    "generator_test = ImageDataGenerator(rescale = 1./255)"
   ]
  },
  {
   "cell_type": "code",
   "execution_count": null,
   "metadata": {},
   "outputs": [],
   "source": [
    "data = pd.read_csv('train.truth.csv')"
   ]
  },
  {
   "cell_type": "code",
   "execution_count": null,
   "metadata": {},
   "outputs": [],
   "source": [
    "data.head()"
   ]
  },
  {
   "cell_type": "code",
   "execution_count": null,
   "metadata": {},
   "outputs": [],
   "source": [
    "train, test = train_test_split(data, test_size=0.25)"
   ]
  },
  {
   "cell_type": "code",
   "execution_count": null,
   "metadata": {},
   "outputs": [],
   "source": [
    "#Dividing the images into folders for their rotation. Necessary for learning\n",
    "start = False\n",
    "if (start):\n",
    "    for i, row in train.iterrows():\n",
    "        src = 'train/' + row['fn']\n",
    "        dst = 'images_train/' + row['label'] + '/' + row['fn']\n",
    "        copyfile(src, dst)\n",
    "    for i, row in test.iterrows():\n",
    "        src = 'train/' + row['fn']\n",
    "        dst = 'images_test/' + row['label'] + '/' + row['fn']\n",
    "        copyfile(src, dst)"
   ]
  },
  {
   "cell_type": "code",
   "execution_count": null,
   "metadata": {},
   "outputs": [],
   "source": [
    "#Cada pasta o modelo considerará que é uma categoria\n",
    "base_train = generator_training.flow_from_directory('images_train', target_size=(64,64),\n",
    "                                                          batch_size=32, class_mode='categorical')"
   ]
  },
  {
   "cell_type": "code",
   "execution_count": null,
   "metadata": {},
   "outputs": [],
   "source": [
    "#Cada pasta o modelo considerará que é uma categoria\n",
    "base_test = generator_test.flow_from_directory('images_test', target_size=(64,64),\n",
    "                                                          batch_size=32, class_mode='categorical')"
   ]
  },
  {
   "cell_type": "code",
   "execution_count": null,
   "metadata": {},
   "outputs": [],
   "source": [
    "model = Sequential()\n",
    "model.add(Conv2D(32, (3, 3), padding='same',\n",
    "                 input_shape=(64, 64, 3)))\n",
    "model.add(Activation('relu'))\n",
    "model.add(Conv2D(32, (3, 3)))\n",
    "model.add(Activation('relu'))\n",
    "model.add(MaxPooling2D(pool_size=(2, 2)))\n",
    "model.add(Dropout(0.25))\n",
    "\n",
    "model.add(Conv2D(64, (3, 3), padding='same'))\n",
    "model.add(Activation('relu'))\n",
    "model.add(Conv2D(64, (3, 3)))\n",
    "model.add(Activation('relu'))\n",
    "model.add(MaxPooling2D(pool_size=(2, 2)))\n",
    "model.add(Dropout(0.25))\n",
    "\n",
    "model.add(Flatten())\n",
    "model.add(Dense(512))\n",
    "model.add(Activation('relu'))\n",
    "model.add(Dropout(0.5))\n",
    "model.add(Dense(4))\n",
    "model.add(Activation('softmax'))"
   ]
  },
  {
   "cell_type": "code",
   "execution_count": null,
   "metadata": {},
   "outputs": [],
   "source": [
    "#I used the variable patterns for lack of time\n",
    "model.compile(loss='categorical_crossentropy',\n",
    "              optimizer='adam',\n",
    "              metrics=['accuracy'])"
   ]
  },
  {
   "cell_type": "code",
   "execution_count": null,
   "metadata": {},
   "outputs": [],
   "source": [
    "if(start):\n",
    "    model.fit_generator(base_train, steps_per_epoch=36000/32, epochs=5, validation_data=base_test,\n",
    "                       validation_steps=12000)"
   ]
  },
  {
   "cell_type": "code",
   "execution_count": null,
   "metadata": {},
   "outputs": [],
   "source": [
    "save_dir = os.path.join(os.getcwd(), 'model')\n",
    "model_name = 'keras_cifar10_trained_model.h5'\n",
    "model_path = os.path.join(save_dir, model_name)\n",
    "if(start):    \n",
    "    # Save model and weights\n",
    "    if not os.path.isdir(save_dir):\n",
    "        os.makedirs(save_dir)\n",
    "    model_path = os.path.join(save_dir, model_name)\n",
    "    model.save(model_path)\n",
    "    print('Saved trained model at %s ' % model_path)\n",
    "else:\n",
    "    model = load_model('model/my_predict.h5')"
   ]
  },
  {
   "cell_type": "markdown",
   "metadata": {},
   "source": [
    "# Result"
   ]
  },
  {
   "cell_type": "code",
   "execution_count": null,
   "metadata": {
    "scrolled": true
   },
   "outputs": [],
   "source": [
    "COLUNAS = [\n",
    "    'fn',\n",
    "    'label'\n",
    "]\n",
    "resultado = pd.DataFrame(columns = COLUNAS)\n",
    "resposta = pd.DataFrame(columns = COLUNAS)"
   ]
  },
  {
   "cell_type": "code",
   "execution_count": null,
   "metadata": {},
   "outputs": [],
   "source": [
    "for file in glob.glob(\"test/*.jpg\"):    \n",
    "    image_test = image.load_img(file, target_size= (64,64))\n",
    "    inicial = image_test\n",
    "    image_test = image.img_to_array(image_test)\n",
    "    image_test /= 255\n",
    "    image_test = np.expand_dims(image_test, axis = 0)\n",
    "    previsao = model.predict(image_test)\n",
    "    if(previsao[0][0].round() == 1):\n",
    "        #final = inicial.rotate(-90).save(inicial.filename)\n",
    "        label = 'rotated_left'\n",
    "    elif (previsao[0][1].round() == 1):\n",
    "        #final = inicial.rotate(90).save(inicial.filename)  \n",
    "        label = 'rotated_right'\n",
    "    elif (previsao[0][3].round() == 1):\n",
    "        #final = inicial.rotate(180).save(inicial.filename) \n",
    "        label = 'upside_down'\n",
    "    else:\n",
    "        label = 'upright'\n",
    "    \n",
    "    fn = inicial.filename\n",
    "    fn = fn.split('/')\n",
    "    resposta = resposta.append({'label':label, 'fn':fn[1]},ignore_index=True,sort=False)\n",
    "    inicial.close()"
   ]
  },
  {
   "cell_type": "code",
   "execution_count": null,
   "metadata": {},
   "outputs": [],
   "source": [
    "resposta.to_csv('test.preds.csv', index=False)"
   ]
  },
  {
   "cell_type": "code",
   "execution_count": null,
   "metadata": {},
   "outputs": [],
   "source": []
  }
 ],
 "metadata": {
  "kernelspec": {
   "display_name": "Python 3 (ipykernel)",
   "language": "python",
   "name": "python3"
  },
  "language_info": {
   "codemirror_mode": {
    "name": "ipython",
    "version": 3
   },
   "file_extension": ".py",
   "mimetype": "text/x-python",
   "name": "python",
   "nbconvert_exporter": "python",
   "pygments_lexer": "ipython3",
   "version": "3.9.12"
  }
 },
 "nbformat": 4,
 "nbformat_minor": 2
}
