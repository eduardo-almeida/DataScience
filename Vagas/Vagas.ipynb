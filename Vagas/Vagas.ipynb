{
 "cells": [
  {
   "cell_type": "markdown",
   "id": "d0bcef1e",
   "metadata": {},
   "source": [
    "Empresa: Bicho de estimação"
   ]
  },
  {
   "cell_type": "markdown",
   "id": "4d2b2493",
   "metadata": {},
   "source": [
    "Nossos desafios estão relacionados à criação e melhoria de estruturas de dados e modelos que nos permitem tomar decisões mais rápidas e melhores, construindo modelos de ML para o Supply Chain,Análise de texto e sentimento utilizando técnicas de machine learning e forecast de vendas;\n",
    "Somos pessoas com uma abordagem orientada a dados;\n",
    "Trabalhando com uma mentalidade de teste e aprendizagem;\n",
    "Focados em alcançar resultados com uma visão centrada no cliente;\n",
    "Estamos entusiasmados em trabalhar com problemas de negócios desafiadores, usando tecnologia, dados e conhecimento de negócios para gerar soluções relevantes.\n",
    "\n",
    "Responsabilidades e atribuições\n",
    "O cientista de dados será responsável por analisar e levantar requisitos,;\n",
    "Definir modelagem dos dados a serem tratados;\n",
    "Manipulação de grandes volumes de informações de diferentes fontes e em diferentes formatos;\n",
    "Análise e exploração dos dados;\n",
    "Construção de Modelos de Machine Learning;\n",
    "Apoiar as áreas de negócio no uso de dados ;\n",
    "Interagir fortemente com diversas áreas da empresa, para entender e solucionar os projetos da área de Data Science.\n",
    "\n",
    "Requisitos e qualificações\n",
    "Graduação em Ciência da Computação, Estatística, Matemática, Física e áreas afins.\n",
    "Conhecimento em programação: Estatísticas básicas; Python/R; SQL,Databricks e Git.\n",
    "Capacidade de aprender rápido e capacidade de continuar aprendendo coisas novas, melhorando constantemente."
   ]
  },
  {
   "cell_type": "markdown",
   "id": "a400597b",
   "metadata": {},
   "source": [
    "========================================================================================================================"
   ]
  },
  {
   "cell_type": "markdown",
   "id": "b6d9b70e",
   "metadata": {},
   "source": [
    "Empresa: Neurotech\n",
    "\n",
    "🚀 Você quer vivenciar novos desafios em um ambiente disruptivo que valoriza as pessoas e a vontade de aprender?\n",
    "\n",
    "💪 A Neurotech é uma empresa orgulhosamente 100% brasileira, pioneira na criação de soluções avançadas de Inteligência Artificial, Machine Learning, Big Data e atuando há 20 anos para clientes em todo Brasil nos segmentos de crédito, varejo, seguros e mercado financeiro.\n",
    "\n",
    "⚠️ Requisitos Essenciais\n",
    "\n",
    "Estamos em busca de uma Pessoa Estagiária em Ciência de Dados, com perfil analítico, para contribuir com a construção e análise de modelos preditivos para o mercado de Crédito, criando soluções escaláveis e de alto retorno. Conheça mais sobre a vaga:\n",
    "Graduação cursando a partir do terceiro período em Ciências da Computação, Sistemas da Informação, Engenharias, Estatística e áreas correlatas.\n",
    "🎯 Competências e Habilidades\n",
    "Gostar de programar e conhecer o básico de programação para ciência de dados baseada em Python (Pandas, Sklearn);\n",
    "Possuir base matemática e lógica para compreender conceitos básicos de negócio;\n",
    "Entendimento da teoria dos modelos de Machine Learning mais simples e mais importantes;\n",
    "Diferenciais: Experiência com análise de dados e machine learning e experiência com Git.\n",
    "Autonomia, trabalha bem sob pouca supervisão; Disposição para aprender e somar dentro do time; Capacidade de comunicar bem suas ideias e resultados\n",
    "🧚 Suas Principais Atividades\n",
    "Empregar algoritmos de Machine Learning para os mais diversos problemas;\n",
    "Extrair conhecimento de grandes volumes de dados de múltiplas fontes;\n",
    "Preparar e apresentar dados da melhor forma para a tomada de decisões e a solução de problemas."
   ]
  },
  {
   "cell_type": "markdown",
   "id": "9e5d4a30",
   "metadata": {},
   "source": [
    "========================================================================================================================"
   ]
  },
  {
   "cell_type": "markdown",
   "id": "87bc14c6",
   "metadata": {},
   "source": [
    "Empresa: GeekHunter\n",
    "\n",
    "Esta é uma vaga de um cliente da GeekHunter, candidate-se para ter acesso às informações completas sobre a empresa.\n",
    "\n",
    "Realização de análises de dados para machine learning;\n",
    "Atuação com pipelines de dados;\n",
    "Otimização de queries, entre outros.\n",
    "Inglês Avançado ou Fluente;\n",
    "Formação em áreas de ciências exatas (ex: Estatística, Matemática, Probabilidade), e métodos quantitativos;\n",
    "Experiência como Data Scientist ou Data Analyst;\n",
    "Experiência com Python para análise de dados e machine learning;\n",
    "Experiência com GCP Data e serviços de Inteligência Artificial;\n",
    "Experiência com SQL e otimização de queries\n",
    "Experiência prévia com pipelines de dados para processos de machine learning;\n",
    "\n",
    "Diferenciais\n",
    "\n",
    "Experiência prévia trabalhando com aplicações para indústria 4.0;\n",
    "Experiência prévia trabalhando pipelines de dados para processos de machine learning;\n",
    "Experiência com micros serviços, Docker.\n",
    "\n",
    "Habilidades Obrigatórias\n",
    "\n",
    "Python\n",
    "Google Cloud"
   ]
  },
  {
   "cell_type": "markdown",
   "id": "5295d608",
   "metadata": {},
   "source": [
    "========================================================================================================================"
   ]
  },
  {
   "cell_type": "markdown",
   "id": "8cc9ef21",
   "metadata": {},
   "source": [
    "Empresa: Picpay\n",
    "\n",
    "Sobre o Picpay:\n",
    "\n",
    "O crescimento expressivo do PicPay também é fruto da nossa diversificação de portfólio. Atualmente, nossas unidades de negócio estão estruturadas em uma plataforma única de produtos e serviços que possibilitam oferecer a melhor experiência aos nossos clientes.\n",
    "\n",
    "Sobre a vaga:\n",
    "\n",
    "Buscamos uma pessoa com experiência com modelagem de crédito para nosso time de cientistas de dados responsáveis pelos modelos de crédito e cobrança do Picpay.\n",
    "\n",
    "Se você é uma pessoa analítica, organizada, comunicativa, com muita energia, facilidade de lidar com números e apaixonado por resolver problemas de negócio através de dados, essa vaga é para você!\n",
    "\n",
    "Responsabilidades e Atribuições\n",
    "\n",
    "Modelos de Machine Learning e/ou Deep Learning\n",
    "Plataformas de Machine Learning e ferramentas de análise de dados\n",
    "Forte habilidade de comunicação para interação com stakeholders\n",
    "Ter habilidades estratégicas e de resolução de problemas\n",
    "Forte capacidade analítica com experiência em modelagem dados e análises\n",
    "\n",
    "Requisitos e Qualificações\n",
    "\n",
    "Experiência em modelagem de Crédito e Cobrança: Modelos de application score, behavior score, collection score.\n",
    "Formação mais experiência em Estatística, Engenharia, Ciência da Computação ou Economia - Mestrado é um diferencial!\n",
    "Conhecimentos avançados em Probabilidade e Estatística\n",
    "Experiência em desenvolvimento de modelos de Machine Learning para Crédito\n",
    "Conhecimentos avançados em R e Python/Pandas - Pyspark é um diferencial!\n",
    "Excelente comunicação oral e escrita\n"
   ]
  },
  {
   "cell_type": "markdown",
   "id": "01af5525",
   "metadata": {},
   "source": [
    "========================================================================================================================"
   ]
  },
  {
   "cell_type": "markdown",
   "id": "6a990fdb",
   "metadata": {},
   "source": [
    "Empresa: NUCLEA\n",
    "\n",
    "Vem pra NUCLEA\n",
    "\n",
    "\n",
    "Já imaginou se os meios de pagamento parassem de funcionar? Pois é, isso nem passa pela nossa cabeça, porque trabalhamos com inovação, confiabilidade e tecnologia de ponta para que você, pequenas ou grandes empresas possam fazer suas transações com total segurança e agilidade, a qualquer hora do dia ou da noite.\n",
    "\n",
    "\n",
    "Nosso ambiente é feito de gente movida pela vontade de interagir de forma colaborativa e disposta a se desafiar todos os dias. Estamos cheios de energia para continuar transformando o mercado financeiro. Temos muito Orgulho de Ser NUCLEA.\n",
    "\n",
    "\n",
    "Sobre a NUCLEA\n",
    "\n",
    "https://www.nuclea.com.br/\n",
    "\n",
    "\n",
    "Missão do Cargo\n",
    "\n",
    "\n",
    "Ser capaz de avaliar as melhores abordagens analíticas e cientificas para resolução dos problemas de negócio apresentados, para assim servir como uma ponte entre as áreas de negócio, infraestrutura e engenharia de dados de modo a potencializar a criação de produtos de dados e analytics.\n",
    "Desenhar e planejar POCs, experimentos controlados, exploratórias descritivas de dados, modelos preditivos e prescritivos de forma eficiente, com qualidade e criteriosidade científicas.\n",
    "Alinhar com os times de engenharia de dados quais informações, dataframes e demais dados possam ser necessários à boa execução do trabalho, bem como negociar prazos e escopo de atividades com POs, gerentes e superintendentes de modo a garantir equalização de expectativas.\n",
    "Ter boa capacidade de comunicação e ser capaz de criar storylines claros, objetivos e compreensíveis para diferentes públicos: de lideranças técnicas, engenheiros de dados e colegas cientistas até o comitê executivo da empresa.\n",
    "\n",
    "Principais Responsabilidades\n",
    "\n",
    "\n",
    "Produzir, testar e experimentar modelos estatísticos aplicados as diferente áreas de negócio\n",
    "Criar, manter e atualizar relatórios analíticos para a squad e para o negócio\n",
    "Trazer insigths e conduzir experimentos junto as áreas de negócios\n",
    "Auxiliar o time de negócios e comercial em apresentações de produtos da empresa para potenciais clientes\n",
    "Desenvolver modelos preditivos com técnicas de machine learning para resolução de problemas de negócio\n",
    "Elaborar apresentações técnicas para discussão e demonstração de resultados de análises e modelos para stakeholders técnicos da companhia\n",
    "Elaborar apresentações executivas para demonstração de resultados e produtos para executivos da companhia\n",
    "\n",
    "Formação Acadêmica\n",
    "\n",
    "\n",
    "Ensino Superior Completo em uma ou mais destas áreas: ciência da computação, estatística, engenharias, economia, matemática ou áreas congêneres\n",
    "MBA em Data Science é um diferencial\n",
    "Mestrado e/ou doutorado nestas áreas é um diferencial\n",
    "\n",
    "\n",
    "Idiomas\n",
    "\n",
    "\n",
    "Inglês – Avançado (especialmente leitura, para consultar documentação de linguagens de programação e algoritmos em inglês)\n",
    "\n",
    "Conhecimentos Específicos\n",
    "\n",
    "\n",
    "Pacote Office – Intermediário\n",
    "Machine Learning\n",
    "Modelagem Estatística\n",
    "Análise de dados\n",
    "Python\n",
    "Pyspark (diferencial)\n",
    "Capacidade de aprender novas linguagens de programação, frameworks de modelagem e análise é indispensável\n",
    "Capacidade e hábito em ler documentações técnicas de pacotes estatísticos e de machine learning é essencial\n"
   ]
  },
  {
   "cell_type": "markdown",
   "id": "729f581c",
   "metadata": {},
   "source": [
    "========================================================================================================================"
   ]
  },
  {
   "cell_type": "markdown",
   "id": "dc7e02b2",
   "metadata": {},
   "source": [
    "Empresa: Omie \n",
    "\n",
    "A Omie tem como propósito trazer prosperidade para o ecossistema empreendedor brasileiro. Por isso, buscamos por pessoas com mentalidade de crescimento, valorizando perfis que tenham capacidade de adaptação, senso colaborativo e sejam motivadas pela inovação e pelo aprendizado contínuo.\n",
    "\n",
    "Faça parte da história de uma das empresas de tecnologia que mais cresce no país! 🚀\n",
    "\n",
    "#VempraOmie\n",
    "\n",
    "Responsabilidades e atribuições\n",
    "Análises de grandes volumes de dados, aplicando técnicas de Preparação e Visualização de dados, desenvolvimento de pipelines, consultas e cruzamento de dados, e códigos voltados para aplicações de negócio;\n",
    "Trabalhar para que os dados sejam coerentes, estejam disponíveis e traduzam o desempenho do negócio, através da promoção do correto registro de dados, criação, manutenção e revisão constante dos dashboards, além da padronização e disseminação dos conceitos dos indicadores;\n",
    "Desenvolvimento de projetos de dados desde a extração dos dados, criação dos cubos de informações, e desenvolvimento dos relatórios/dashboards a serem entregues;\n",
    "Contribuir com o trabalho dos times de Engenharia de Dados e Ciência de Dados, propondo melhorias nas estruturas e modelagem de dados, como também em análises avançadas;\n",
    "Garantir que os dashboards desenvolvidos sejam seguros, escaláveis e funcionais através da análise e avaliação da estrutura e design.\n",
    "\n",
    "Requisitos e qualificações\n",
    "Ensino Superior Completo;\n",
    "Domínio em Power BI;\n",
    "Conhecimento avançado em SQL, R e/ou Python;\n",
    "Conhecimento em modelagem de dados;\n",
    "Conhecimento em análise exploratória de dados;\n",
    "Familiaridade com AWS."
   ]
  },
  {
   "cell_type": "markdown",
   "id": "01a3f4b9",
   "metadata": {},
   "source": [
    "========================================================================================================================"
   ]
  },
  {
   "cell_type": "markdown",
   "id": "03eeb99c",
   "metadata": {},
   "source": [
    "Empresa GroupL2\n",
    "\n",
    "Explorar, interpretar dados e construir soluções que suportem as decisões de negócio com projetos com clientes Criar, desenvolver e implementar modelos estatísticos em produção; (analises preditivas e descritivas) Desenvolver dashboards gerenciais para tomada de decisões; Trabalhar em conjunto com equipe de Desenvolvimento de novos produtos e Gerente de Projetos para garantir performance dos produtos digitais Participar ativamente de reuniões para entendimento de problemas de negócio e necessidades interagindo com as demais áreas da organização para entendimento do negócio e propor soluções que otimizem os resultados. Acompanhamento constante de novas técnicas analíticas para melhorar as soluções existentes;\n",
    "\n",
    "Beneficios\n",
    "\n",
    "Estacionamento;\n",
    "\n",
    "Formação Acadêmica\n",
    "\n",
    "Graduação ou mestrado em áreas correlatas a ciência de dados: Computação, Estatística, Engenharia, Economia, Matemática e Física;\n",
    "\n",
    "Experiência\n",
    "\n",
    "5 anos de experiência com ciência de dados suportando tomada de decisões com modelagens por meio de análises e manipulação de grandes volumes de dados em diferentes ambientes /ferramentas e formatos; Conhecimento de técnicas de infraestruturas de dados e Big Data; Conhecimentos em R, Python, SQL; Conhecimento sobre Webcrawlers e automação Analytics (machine learning) e Inteligência artificial Inglês fluente Experiência em Projetos de Desenvolvimento de Produtos e Programação? Experiência com visualização de dados usando Power BI, Tableau ou ferramentas de visualização de dados semelhantes;"
   ]
  },
  {
   "cell_type": "markdown",
   "id": "da6c3d96",
   "metadata": {},
   "source": [
    "========================================================================================================================"
   ]
  },
  {
   "cell_type": "markdown",
   "id": "ea26cdfc",
   "metadata": {},
   "source": [
    "Empresa Position Summary\n",
    "\n",
    "A equipe SRBR AI está procurando estagiários para ajudar nossa equipe a gerar recursos inovadores de saúde para dispositivos vestíveis e móveis da Samsung. Os estagiários terão a oportunidade de trabalhar com especialistas experientes em aprendizado de máquina e IA e terão a oportunidade de contribuir com projetos que podem impactar milhões de pessoas em todo o mundo.\n",
    "\n",
    "Os estagiários podem contribuir com atividades relacionadas à análise de dados, processamento de sinais, aprendizado de máquina, projeto de experimentos e muitas outras.\n",
    "\n",
    "responsabilidades principais\n",
    "\n",
    "Papel e responsabilidades\n",
    "\n",
    "Contribuir para técnicas de coleta e processamento de dados e realizar análises exploratórias de dados, inclusive em ambientes de big data\n",
    "Contribuir para definir e experimentar técnicas de processamento de sinal\n",
    "Contribuir para projetar e avaliar técnicas de extração de recursos e modelos de aprendizado de máquina\n",
    "Contribuir para otimizar soluções visando dispositivos restritos\n",
    "\n",
    "Requisitos\n",
    "\n",
    "Atualmente matriculado em Ciência da Computação, Engenharia da Computação, Matemática, Estatística ou áreas afins em universidades de primeira linha\n",
    "Proatividade\n",
    "Fortes habilidades de comunicação verbal e escrita\n",
    "Nível avançado de inglês\n",
    "\n",
    "Itens que serão considerados como um plus\n",
    "\n",
    "Conhecimento e habilidades em técnicas e fundamentos de Machine Learning\n",
    "Conhecimento em técnicas de Processamento de Sinal\n",
    "Experiência com dados de sensores e dados de séries temporais\n",
    "Habilidades em probabilidade, estatística, design de experimentos e avaliação\n",
    "Bons conhecimentos de programação, especialmente em Python e C/C++\n",
    "Experiência em competições de codificação (ex: Maratona de Programação)\n",
    "Experiência em participação em projetos de iniciação científica\n",
    "Publicações em congressos e revistas"
   ]
  },
  {
   "cell_type": "markdown",
   "id": "147dc6ad",
   "metadata": {},
   "source": [
    "========================================================================================================================"
   ]
  },
  {
   "cell_type": "markdown",
   "id": "c770e004",
   "metadata": {},
   "source": [
    "Empresa: Picpay\n",
    "\n",
    "Responsabilidades e Atribuições\n",
    "\n",
    "Modelos de Machine Learning e/ou Deep Learning\n",
    "Plataformas de Machine Learning e ferramentas de análise de dados\n",
    "Forte habilidade de comunicação para interação com stakeholders\n",
    "Ter habilidades estratégicas e de resolução de problemas\n",
    "Forte capacidade analítica com experiência em modelagem dados e análises\n",
    "\n",
    "Requisitos e Qualificações\n",
    "\n",
    "Experiência em modelagem de Crédito e Cobrança: Modelos de application score, behavior score, collection score.\n",
    "Formação mais experiência em Estatística, Engenharia, Ciência da Computação ou Economia - Mestrado é um diferencial!\n",
    "Conhecimentos avançados em Probabilidade e Estatística\n",
    "Experiência em desenvolvimento de modelos de Machine Learning para Crédito\n",
    "Conhecimentos avançados em R e Python/Pandas - Pyspark é um diferencial!\n",
    "Excelente comunicação oral e escrita"
   ]
  },
  {
   "cell_type": "markdown",
   "id": "87a15e5f",
   "metadata": {},
   "source": [
    "========================================================================================================================"
   ]
  },
  {
   "cell_type": "markdown",
   "id": "f7ae3649",
   "metadata": {},
   "source": [
    "Empresa: Senior Data Scientist-AI/ML\n",
    "\n",
    "Data Science tem tudo a ver com abrir novos caminhos para permitir que as empresas respondam às suas perguntas mais urgentes. Pioneira no processamento analítico intensivo de dados massivamente paralelos, nossa missão é desenvolver uma abordagem totalmente nova para gerar significado e valor a partir de conjuntos de dados em escala de petabytes e moldar novas metodologias, ferramentas, métodos estatísticos e modelos. Além disso, estamos em colaboração com acadêmicos orientadores, especialistas do setor e engenheiros altamente qualificados para equipar nossos clientes para gerar novos insights sofisticados a partir do maior big data.\n",
    "\n",
    "Junte-se a nós para fazer o melhor trabalho de sua carreira e causar um profundo impacto social como Cientista de Dados Sênior na equipe de Análise Digital e Ciência de Dados de nossa organização de TI Digital.\n",
    "\n",
    "O que você vai conseguir\n",
    "\n",
    "Você fará parte de uma equipe que inova e colabora com as partes interessadas internas para fornecer soluções de classe mundial com uma mentalidade de primeiro cliente. Este grupo é apaixonado pelo campo da ciência de dados e é motivado a encontrar oportunidades e desenvolver soluções para desafios em evolução.\n",
    "\n",
    "Você irá\n",
    "Resolva problemas complexos de negócios e clientes utilizando AI/ML\n",
    "Construa protótipos e soluções escaláveis de IA/ML que serão integradas a produtos de software\n",
    "Colabore com engenheiros de software, partes interessadas nos negócios e proprietários de produtos em um ambiente Agile\n",
    "Tenha propriedade total dos resultados do modelo e impulsione a melhoria contínua\n",
    "Dê o primeiro passo para a carreira dos seus sonhos\n",
    "\n",
    "Requisitos essenciais\n",
    "\n",
    "Cada membro da equipe da Dell Technologies traz algo exclusivo para a mesa. Aqui está o que estamos procurando com este papel:\n",
    "Inglês avançado ou fluente trabalhará em uma equipe de ambiente global\n",
    "Experiência relevante em função relacionada com pós-graduação em Ciência da Computação, Engenharia, Física, Matemática, Estatística ou área similar; deve incluir conhecimento profundo de estatística e matemática\n",
    "Experiência com tecnologias de Big Data e habilidades de codificação relevantes em Python e SQL\n",
    "Experiência relevante em aprendizado de máquina para incluir conhecimento de ponta em aprendizado profundo, NLP, classificação, regressão etc. em grandes conjuntos de dados\n",
    "Experiência relevante na implantação de modelo ML e construção de API"
   ]
  },
  {
   "cell_type": "markdown",
   "id": "73fa0ca3",
   "metadata": {},
   "source": [
    "========================================================================================================================"
   ]
  },
  {
   "cell_type": "markdown",
   "id": "61f02db9",
   "metadata": {},
   "source": [
    "Empresa: Revelo Network\n",
    "\n",
    "Vaga internacional.\n",
    "Imprescindível possuir 03 anos de experiência em GCP.\n",
    "03 Anos de experiência com Python.\n",
    "Possuir Inglês avançado"
   ]
  },
  {
   "cell_type": "markdown",
   "id": "858f45c6",
   "metadata": {},
   "source": [
    "========================================================================================================================"
   ]
  },
  {
   "cell_type": "markdown",
   "id": "e1e7ce7a",
   "metadata": {},
   "source": [
    "Empresa: Geofusion\n",
    "\n",
    "Sobre o Desafio\n",
    "\n",
    "Você terá papel importante em todas as fases da elaboração de novos produtos/dados, desde o entendimento do problema e análise de viabilidade, até a execução da resolução do problema de fato, compreendendo a seleção de features, engenharia de features, definição de métodos de pré-processamento, escolha e aplicação de algoritmos e de métricas relevantes para avaliação dos resultados.\n",
    "\n",
    "Principais Atividades Que Você Desempenhará\n",
    "\n",
    "Forte interação com os times de Produto para entender as dores dos clientes e propor as técnicas mais adequadas a um determinado problema;\n",
    "\n",
    "Implementação de POCs e MVPs com os dados de nossos clientes, utilizando técnicas de Aprendizado de Máquina em todo o seu ciclo;\n",
    "\n",
    "Ter visão ampla sobre as soluções da Geofusion e a aplicação das diversas metodologias e dados, com foco na sua constante evolução;\n",
    "\n",
    "Considerar a interação entre os novos dados e os já existentes, maximizando a utilidade do conjunto e garantindo o engajamento de nossos clientes e a geração de receita.\n",
    "\n",
    "Para ter sucesso nessa posição é importante que você cumpra com os seguintes requisitos:\n",
    "\n",
    "Se sinta confortável em trabalhar em todo o ciclo de desenvolvimento de um produto e em um ambiente de inovação;\n",
    "\n",
    "Consiga trabalhar em cenários de grande incerteza;\n",
    "\n",
    "Possua conhecimentos de aprendizado de máquina e estatística;\n",
    "\n",
    "Conheça técnicas e ferramentas analíticas como Python, R, SQL;\n",
    "\n",
    "Tenha conhecimento em modelagem e algoritmos de machine learning;\n",
    "\n",
    "Tenha capacidade de análise quantitativa (Ciência de Dados/Mineração de Dados) e exploratória, utilizando a maior parte das seguintes ferramentas: Pandas, plotly, Matplotlib, Seaborn, Bokeh, ggplot2;\n",
    "\n",
    "Serão Diferenciais\n",
    "\n",
    "Contato com conceitos de GIS;\n",
    "\n",
    "Mestrado e/ou Doutorado em Inteligência Computacional, Inteligência Artificial, Aprendizado de Máquina, Otimização e áreas correlatas;\n",
    "\n",
    "Familiaridade com TensorFlow, PyTorch, Keras;\n",
    "\n",
    "Conhecimento de programação orientada a objetos e Engenharia de Software;\n",
    "\n",
    "Experiência com ferramentas de processamento distribuído como Spark e Dask;\n",
    "\n",
    "Confortável com Linux, AWS e Kubernetes e Docker.\n",
    "\n",
    "As habilidades que o conduzirão ao sucesso nessa posição são:\n",
    "\n",
    "Queremos o seu perfil investigativo, extrema curiosidade e capacidade de fazer descobertas enquanto busca e navega por dados nossos, de\n",
    "\n",
    "nossos clientes e do mercado.\n",
    "\n",
    "Ser capaz de desenvolver e sempre evoluir algoritmos de predição e prescrição para aplicá-los nos produtos Geofusion, em consultorias para\n",
    "\n",
    "clientes e na produção de dados a serem utilizados no nosso ecossistema.\n",
    "\n",
    "Capacidade de compartilhar e ensinar as técnicas que utiliza para o seu time;"
   ]
  },
  {
   "cell_type": "markdown",
   "id": "c66a715b",
   "metadata": {},
   "source": [
    "========================================================================================================================"
   ]
  },
  {
   "cell_type": "markdown",
   "id": "cf59df91",
   "metadata": {},
   "source": [
    "Empresa: GeekHunter\n",
    "\n",
    "Esta é uma vaga de um cliente da GeekHunter, candidate-se para ter acesso às informações completas sobre a empresa.\n",
    "\n",
    "Realização de análises de dados para machine learning;\n",
    "Atuação com pipelines de dados;\n",
    "Otimização de queries, entre outros.\n",
    "Inglês Avançado ou Fluente;\n",
    "Formação em áreas de ciências exatas (ex: Estatística, Matemática, Probabilidade), e métodos quantitativos;\n",
    "Experiência como Data Scientist ou Data Analyst;\n",
    "Experiência com Python para análise de dados e machine learning;\n",
    "Experiência com GCP Data e serviços de Inteligência Artificial;\n",
    "Experiência com SQL e otimização de queries\n",
    "Experiência prévia com pipelines de dados para processos de machine learning;\n",
    "\n",
    "Diferenciais\n",
    "\n",
    "Experiência prévia trabalhando com aplicações para indústria 4.0;\n",
    "Experiência prévia trabalhando pipelines de dados para processos de machine learning;\n",
    "Experiência com micros serviços, Docker.\n",
    "\n",
    "Habilidades Obrigatórias\n",
    "\n",
    "Python\n",
    "Google Cloud"
   ]
  },
  {
   "cell_type": "markdown",
   "id": "38b9db77",
   "metadata": {},
   "source": [
    "========================================================================================================================"
   ]
  },
  {
   "cell_type": "markdown",
   "id": "d3ca6bb9",
   "metadata": {},
   "source": []
  },
  {
   "cell_type": "markdown",
   "id": "5667f4f9",
   "metadata": {},
   "source": [
    "========================================================================================================================"
   ]
  },
  {
   "cell_type": "markdown",
   "id": "50bb3413",
   "metadata": {},
   "source": []
  },
  {
   "cell_type": "markdown",
   "id": "a202d042",
   "metadata": {},
   "source": [
    "========================================================================================================================"
   ]
  },
  {
   "cell_type": "markdown",
   "id": "15ddfb83",
   "metadata": {},
   "source": []
  },
  {
   "cell_type": "markdown",
   "id": "aad62077",
   "metadata": {},
   "source": [
    "========================================================================================================================"
   ]
  },
  {
   "cell_type": "markdown",
   "id": "83e3ee1b",
   "metadata": {},
   "source": []
  },
  {
   "cell_type": "markdown",
   "id": "ccbc7ad1",
   "metadata": {},
   "source": [
    "========================================================================================================================"
   ]
  },
  {
   "cell_type": "markdown",
   "id": "b2a7705a",
   "metadata": {},
   "source": []
  },
  {
   "cell_type": "markdown",
   "id": "f46d917f",
   "metadata": {},
   "source": [
    "========================================================================================================================"
   ]
  },
  {
   "cell_type": "markdown",
   "id": "40002f50",
   "metadata": {},
   "source": []
  },
  {
   "cell_type": "markdown",
   "id": "e9577cef",
   "metadata": {},
   "source": [
    "========================================================================================================================"
   ]
  },
  {
   "cell_type": "markdown",
   "id": "eeac6c53",
   "metadata": {},
   "source": []
  },
  {
   "cell_type": "markdown",
   "id": "4ca22a1e",
   "metadata": {},
   "source": [
    "========================================================================================================================"
   ]
  },
  {
   "cell_type": "markdown",
   "id": "7bcbc78f",
   "metadata": {},
   "source": []
  }
 ],
 "metadata": {
  "kernelspec": {
   "display_name": "Python 3 (ipykernel)",
   "language": "python",
   "name": "python3"
  },
  "language_info": {
   "codemirror_mode": {
    "name": "ipython",
    "version": 3
   },
   "file_extension": ".py",
   "mimetype": "text/x-python",
   "name": "python",
   "nbconvert_exporter": "python",
   "pygments_lexer": "ipython3",
   "version": "3.9.12"
  }
 },
 "nbformat": 4,
 "nbformat_minor": 5
}
