{
 "cells": [
  {
   "cell_type": "markdown",
   "id": "281ef420",
   "metadata": {},
   "source": [
    "🚀 Você quer vivenciar novos desafios em um ambiente disruptivo que valoriza as pessoas e a vontade de aprender?\n",
    "\n",
    "💪 A Neurotech é uma empresa orgulhosamente 100% brasileira, pioneira na criação de soluções avançadas de Inteligência Artificial, Machine Learning, Big Data e atuando há 20 anos para clientes em todo Brasil nos segmentos de crédito, varejo, seguros e mercado financeiro.\n",
    "\n",
    "⚠️ Requisitos Essenciais\n",
    "\n",
    "Estamos em busca de uma Pessoa Estagiária em Ciência de Dados, com perfil analítico, para contribuir com a construção e análise de modelos preditivos para o mercado de Crédito, criando soluções escaláveis e de alto retorno. Conheça mais sobre a vaga: Graduação cursando a partir do terceiro período em Ciências da Computação, Sistemas da Informação, Engenharias, Estatística e áreas correlatas. 🎯 Competências e Habilidades Gostar de programar e conhecer o básico de programação para ciência de dados baseada em Python (Pandas, Sklearn); Possuir base matemática e lógica para compreender conceitos básicos de negócio; Entendimento da teoria dos modelos de Machine Learning mais simples e mais importantes; Diferenciais: Experiência com análise de dados e machine learning e experiência com Git. Autonomia, trabalha bem sob pouca supervisão; Disposição para aprender e somar dentro do time; Capacidade de comunicar bem suas ideias e resultados 🧚 Suas Principais Atividades Empregar algoritmos de Machine Learning para os mais diversos problemas; Extrair conhecimento de grandes volumes de dados de múltiplas fontes; Preparar e apresentar dados da melhor forma para a tomada de decisões e a solução de problemas."
   ]
  }
 ],
 "metadata": {
  "kernelspec": {
   "display_name": "Python 3 (ipykernel)",
   "language": "python",
   "name": "python3"
  },
  "language_info": {
   "codemirror_mode": {
    "name": "ipython",
    "version": 3
   },
   "file_extension": ".py",
   "mimetype": "text/x-python",
   "name": "python",
   "nbconvert_exporter": "python",
   "pygments_lexer": "ipython3",
   "version": "3.9.12"
  }
 },
 "nbformat": 4,
 "nbformat_minor": 5
}
