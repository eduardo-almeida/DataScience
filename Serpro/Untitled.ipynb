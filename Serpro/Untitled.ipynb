{
 "cells": [
  {
   "cell_type": "code",
   "execution_count": 2,
   "id": "f611a997",
   "metadata": {},
   "outputs": [],
   "source": [
    "import pandas as pd"
   ]
  },
  {
   "cell_type": "code",
   "execution_count": 3,
   "id": "f999ef5c",
   "metadata": {},
   "outputs": [],
   "source": [
    "df = pd.read_csv(\"dados.txt\")"
   ]
  },
  {
   "cell_type": "code",
   "execution_count": 4,
   "id": "15e93187",
   "metadata": {},
   "outputs": [
    {
     "data": {
      "text/html": [
       "<div>\n",
       "<style scoped>\n",
       "    .dataframe tbody tr th:only-of-type {\n",
       "        vertical-align: middle;\n",
       "    }\n",
       "\n",
       "    .dataframe tbody tr th {\n",
       "        vertical-align: top;\n",
       "    }\n",
       "\n",
       "    .dataframe thead th {\n",
       "        text-align: right;\n",
       "    }\n",
       "</style>\n",
       "<table border=\"1\" class=\"dataframe\">\n",
       "  <thead>\n",
       "    <tr style=\"text-align: right;\">\n",
       "      <th></th>\n",
       "      <th>('10005745'</th>\n",
       "      <th>'Abel Pinheiro de Figueiredo'</th>\n",
       "      <th>9</th>\n",
       "      <th>13</th>\n",
       "      <th>12</th>\n",
       "      <th>12.1</th>\n",
       "      <th>4</th>\n",
       "      <th>4.1</th>\n",
       "      <th>5</th>\n",
       "      <th>7</th>\n",
       "      <th>...</th>\n",
       "      <th>4.2328</th>\n",
       "      <th>8.1491</th>\n",
       "      <th>9.899</th>\n",
       "      <th>5.2027</th>\n",
       "      <th>5.2028</th>\n",
       "      <th>38.572</th>\n",
       "      <th>44.281</th>\n",
       "      <th>35.455</th>\n",
       "      <th>52.183</th>\n",
       "      <th>73).28</th>\n",
       "    </tr>\n",
       "  </thead>\n",
       "  <tbody>\n",
       "  </tbody>\n",
       "</table>\n",
       "<p>0 rows × 47788 columns</p>\n",
       "</div>"
      ],
      "text/plain": [
       "Empty DataFrame\n",
       "Columns: [('10005745', 'Abel Pinheiro de Figueiredo', 9, 13, 12, 12.1, 4, 4.1, 5, 7, 4.2, 4.3, 34, 40, 26, 43, 60), ('10024989', 'Abilio Nehme', 15, 16, 6, 7.1, 0, 1, 2, 4.4, 1.1, 2.1, 24, 30, 35, 42, 59), ('10003790', 'Abimael Carlos da Costa', 14, 15.1, 9.1, 10, 0.1, 0.2, 1.2, 3, 2.2, 3.1, 26.1, 31, 36, 46, 62), ('10029156', 'Abraao Alipio Silva da Silveira', 11, 14.1, 7.2, 9.2, -2, 0.3, 6.1, 8, 5.1, 5.2, 27, 36.1, 32, 43.1, 59).1, ('10001927', 'Abraao Gomes Farah', 12.2, 15.2, 8.1, 10.1, 0.4, 0.5, 4.5, 6.2, 5.3, 5.4, 29, 36.2, 35.1, 49, 64), ('10031369', 'Abraao Silveira de Andrade', 18, 18.1, 12.3, 12.4, 0.6, 0.7, 5.5, 6.3, 2.3, 3.2, 37, 39, 33, ...]\n",
       "Index: []\n",
       "\n",
       "[0 rows x 47788 columns]"
      ]
     },
     "execution_count": 4,
     "metadata": {},
     "output_type": "execute_result"
    }
   ],
   "source": [
    "df.head()"
   ]
  },
  {
   "cell_type": "code",
   "execution_count": null,
   "id": "9ff91dfc",
   "metadata": {},
   "outputs": [],
   "source": []
  }
 ],
 "metadata": {
  "kernelspec": {
   "display_name": "Python 3 (ipykernel)",
   "language": "python",
   "name": "python3"
  },
  "language_info": {
   "codemirror_mode": {
    "name": "ipython",
    "version": 3
   },
   "file_extension": ".py",
   "mimetype": "text/x-python",
   "name": "python",
   "nbconvert_exporter": "python",
   "pygments_lexer": "ipython3",
   "version": "3.9.12"
  }
 },
 "nbformat": 4,
 "nbformat_minor": 5
}
