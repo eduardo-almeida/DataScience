{
 "cells": [
  {
   "cell_type": "code",
   "execution_count": 1,
   "metadata": {
    "colab": {
     "base_uri": "https://localhost:8080/"
    },
    "executionInfo": {
     "elapsed": 4663,
     "status": "ok",
     "timestamp": 1726321903526,
     "user": {
      "displayName": "Erneson Oliveira",
      "userId": "17230374484800502697"
     },
     "user_tz": 180
    },
    "id": "_guYs333G7Rm",
    "outputId": "2013d17e-8a7e-4d7d-fc92-c369426458d9"
   },
   "outputs": [
    {
     "name": "stdout",
     "output_type": "stream",
     "text": [
      "Downloading...\n",
      "From: https://drive.google.com/uc?id=1CoTy1ZnYZqsKWUgjM353KVLqJtTLWo-v\n",
      "To: /content/nba_stats.csv\n",
      "\r",
      "  0% 0.00/3.50M [00:00<?, ?B/s]\r",
      "100% 3.50M/3.50M [00:00<00:00, 200MB/s]\n"
     ]
    }
   ],
   "source": [
    "!gdown 1CoTy1ZnYZqsKWUgjM353KVLqJtTLWo-v"
   ]
  },
  {
   "cell_type": "code",
   "execution_count": 2,
   "metadata": {
    "executionInfo": {
     "elapsed": 704,
     "status": "ok",
     "timestamp": 1726321904229,
     "user": {
      "displayName": "Erneson Oliveira",
      "userId": "17230374484800502697"
     },
     "user_tz": 180
    },
    "id": "qJK_RFkhG2RG"
   },
   "outputs": [],
   "source": [
    "import pandas as pd\n",
    "import numpy as np\n",
    "import matplotlib.pyplot as plt\n",
    "\n",
    "# pd.set_option('display.max_rows', None)\n",
    "# pd.set_option('display.max_columns', None)"
   ]
  },
  {
   "cell_type": "code",
   "execution_count": 3,
   "metadata": {
    "executionInfo": {
     "elapsed": 11,
     "status": "ok",
     "timestamp": 1726321904229,
     "user": {
      "displayName": "Erneson Oliveira",
      "userId": "17230374484800502697"
     },
     "user_tz": 180
    },
    "id": "y6CCXBmMHHlE"
   },
   "outputs": [],
   "source": [
    "df = pd.read_csv('nba_stats.csv')"
   ]
  },
  {
   "cell_type": "code",
   "execution_count": 4,
   "metadata": {
    "colab": {
     "base_uri": "https://localhost:8080/",
     "height": 342
    },
    "executionInfo": {
     "elapsed": 10,
     "status": "ok",
     "timestamp": 1726321904229,
     "user": {
      "displayName": "Erneson Oliveira",
      "userId": "17230374484800502697"
     },
     "user_tz": 180
    },
    "id": "9_GXvuJRHRvH",
    "outputId": "27cd534d-dd05-461f-f583-58c3e940fe49"
   },
   "outputs": [
    {
     "data": {
      "application/vnd.google.colaboratory.intrinsic+json": {
       "type": "dataframe",
       "variable_name": "df"
      },
      "text/html": [
       "\n",
       "  <div id=\"df-86908950-0ddf-40af-bfb8-4b2c437535b4\" class=\"colab-df-container\">\n",
       "    <div>\n",
       "<style scoped>\n",
       "    .dataframe tbody tr th:only-of-type {\n",
       "        vertical-align: middle;\n",
       "    }\n",
       "\n",
       "    .dataframe tbody tr th {\n",
       "        vertical-align: top;\n",
       "    }\n",
       "\n",
       "    .dataframe thead th {\n",
       "        text-align: right;\n",
       "    }\n",
       "</style>\n",
       "<table border=\"1\" class=\"dataframe\">\n",
       "  <thead>\n",
       "    <tr style=\"text-align: right;\">\n",
       "      <th></th>\n",
       "      <th>year</th>\n",
       "      <th>name</th>\n",
       "      <th>playerId</th>\n",
       "      <th>playerSlug</th>\n",
       "      <th>positionId</th>\n",
       "      <th>teamId</th>\n",
       "      <th>status</th>\n",
       "      <th>gamesPlayed</th>\n",
       "      <th>avgMinutes</th>\n",
       "      <th>avgFouls</th>\n",
       "      <th>...</th>\n",
       "      <th>position</th>\n",
       "      <th>birthdate</th>\n",
       "      <th>college</th>\n",
       "      <th>draftinfo</th>\n",
       "      <th>birthplace</th>\n",
       "      <th>team</th>\n",
       "      <th>htwt</th>\n",
       "      <th>experience</th>\n",
       "      <th>rankingSalary</th>\n",
       "      <th>salary</th>\n",
       "    </tr>\n",
       "  </thead>\n",
       "  <tbody>\n",
       "    <tr>\n",
       "      <th>0</th>\n",
       "      <td>1999</td>\n",
       "      <td>Allen Iverson</td>\n",
       "      <td>366</td>\n",
       "      <td>allen-iverson</td>\n",
       "      <td>SG</td>\n",
       "      <td>PHI</td>\n",
       "      <td>inactive</td>\n",
       "      <td>48.0</td>\n",
       "      <td>41.458332</td>\n",
       "      <td>2.041667</td>\n",
       "      <td>...</td>\n",
       "      <td>Shooting Guard</td>\n",
       "      <td>6/7/1975</td>\n",
       "      <td>Georgetown</td>\n",
       "      <td>1996: Rd 1, Pk 1 (PHI)</td>\n",
       "      <td>Hampton, VA</td>\n",
       "      <td>NaN</td>\n",
       "      <td>NaN</td>\n",
       "      <td>NaN</td>\n",
       "      <td>15</td>\n",
       "      <td>$9,000,000</td>\n",
       "    </tr>\n",
       "    <tr>\n",
       "      <th>1</th>\n",
       "      <td>2000</td>\n",
       "      <td>Allen Iverson</td>\n",
       "      <td>366</td>\n",
       "      <td>allen-iverson</td>\n",
       "      <td>SG</td>\n",
       "      <td>PHI</td>\n",
       "      <td>inactive</td>\n",
       "      <td>70.0</td>\n",
       "      <td>40.757140</td>\n",
       "      <td>2.314286</td>\n",
       "      <td>...</td>\n",
       "      <td>Shooting Guard</td>\n",
       "      <td>6/7/1975</td>\n",
       "      <td>Georgetown</td>\n",
       "      <td>1996: Rd 1, Pk 1 (PHI)</td>\n",
       "      <td>Hampton, VA</td>\n",
       "      <td>NaN</td>\n",
       "      <td>NaN</td>\n",
       "      <td>NaN</td>\n",
       "      <td>27</td>\n",
       "      <td>$10,125,000</td>\n",
       "    </tr>\n",
       "    <tr>\n",
       "      <th>2</th>\n",
       "      <td>2001</td>\n",
       "      <td>Allen Iverson</td>\n",
       "      <td>366</td>\n",
       "      <td>allen-iverson</td>\n",
       "      <td>SG</td>\n",
       "      <td>PHI</td>\n",
       "      <td>inactive</td>\n",
       "      <td>71.0</td>\n",
       "      <td>41.957745</td>\n",
       "      <td>2.070423</td>\n",
       "      <td>...</td>\n",
       "      <td>Shooting Guard</td>\n",
       "      <td>6/7/1975</td>\n",
       "      <td>Georgetown</td>\n",
       "      <td>1996: Rd 1, Pk 1 (PHI)</td>\n",
       "      <td>Hampton, VA</td>\n",
       "      <td>NaN</td>\n",
       "      <td>NaN</td>\n",
       "      <td>NaN</td>\n",
       "      <td>17</td>\n",
       "      <td>$11,250,000</td>\n",
       "    </tr>\n",
       "    <tr>\n",
       "      <th>3</th>\n",
       "      <td>2002</td>\n",
       "      <td>Allen Iverson</td>\n",
       "      <td>366</td>\n",
       "      <td>allen-iverson</td>\n",
       "      <td>SG</td>\n",
       "      <td>PHI</td>\n",
       "      <td>inactive</td>\n",
       "      <td>60.0</td>\n",
       "      <td>43.700000</td>\n",
       "      <td>1.700000</td>\n",
       "      <td>...</td>\n",
       "      <td>Shooting Guard</td>\n",
       "      <td>6/7/1975</td>\n",
       "      <td>Georgetown</td>\n",
       "      <td>1996: Rd 1, Pk 1 (PHI)</td>\n",
       "      <td>Hampton, VA</td>\n",
       "      <td>NaN</td>\n",
       "      <td>NaN</td>\n",
       "      <td>NaN</td>\n",
       "      <td>14</td>\n",
       "      <td>$12,375,000</td>\n",
       "    </tr>\n",
       "    <tr>\n",
       "      <th>4</th>\n",
       "      <td>2003</td>\n",
       "      <td>Allen Iverson</td>\n",
       "      <td>366</td>\n",
       "      <td>allen-iverson</td>\n",
       "      <td>SG</td>\n",
       "      <td>PHI</td>\n",
       "      <td>inactive</td>\n",
       "      <td>82.0</td>\n",
       "      <td>42.500000</td>\n",
       "      <td>1.817073</td>\n",
       "      <td>...</td>\n",
       "      <td>Shooting Guard</td>\n",
       "      <td>6/7/1975</td>\n",
       "      <td>Georgetown</td>\n",
       "      <td>1996: Rd 1, Pk 1 (PHI)</td>\n",
       "      <td>Hampton, VA</td>\n",
       "      <td>NaN</td>\n",
       "      <td>NaN</td>\n",
       "      <td>NaN</td>\n",
       "      <td>11</td>\n",
       "      <td>$13,500,000</td>\n",
       "    </tr>\n",
       "  </tbody>\n",
       "</table>\n",
       "<p>5 rows × 54 columns</p>\n",
       "</div>\n",
       "    <div class=\"colab-df-buttons\">\n",
       "\n",
       "  <div class=\"colab-df-container\">\n",
       "    <button class=\"colab-df-convert\" onclick=\"convertToInteractive('df-86908950-0ddf-40af-bfb8-4b2c437535b4')\"\n",
       "            title=\"Convert this dataframe to an interactive table.\"\n",
       "            style=\"display:none;\">\n",
       "\n",
       "  <svg xmlns=\"http://www.w3.org/2000/svg\" height=\"24px\" viewBox=\"0 -960 960 960\">\n",
       "    <path d=\"M120-120v-720h720v720H120Zm60-500h600v-160H180v160Zm220 220h160v-160H400v160Zm0 220h160v-160H400v160ZM180-400h160v-160H180v160Zm440 0h160v-160H620v160ZM180-180h160v-160H180v160Zm440 0h160v-160H620v160Z\"/>\n",
       "  </svg>\n",
       "    </button>\n",
       "\n",
       "  <style>\n",
       "    .colab-df-container {\n",
       "      display:flex;\n",
       "      gap: 12px;\n",
       "    }\n",
       "\n",
       "    .colab-df-convert {\n",
       "      background-color: #E8F0FE;\n",
       "      border: none;\n",
       "      border-radius: 50%;\n",
       "      cursor: pointer;\n",
       "      display: none;\n",
       "      fill: #1967D2;\n",
       "      height: 32px;\n",
       "      padding: 0 0 0 0;\n",
       "      width: 32px;\n",
       "    }\n",
       "\n",
       "    .colab-df-convert:hover {\n",
       "      background-color: #E2EBFA;\n",
       "      box-shadow: 0px 1px 2px rgba(60, 64, 67, 0.3), 0px 1px 3px 1px rgba(60, 64, 67, 0.15);\n",
       "      fill: #174EA6;\n",
       "    }\n",
       "\n",
       "    .colab-df-buttons div {\n",
       "      margin-bottom: 4px;\n",
       "    }\n",
       "\n",
       "    [theme=dark] .colab-df-convert {\n",
       "      background-color: #3B4455;\n",
       "      fill: #D2E3FC;\n",
       "    }\n",
       "\n",
       "    [theme=dark] .colab-df-convert:hover {\n",
       "      background-color: #434B5C;\n",
       "      box-shadow: 0px 1px 3px 1px rgba(0, 0, 0, 0.15);\n",
       "      filter: drop-shadow(0px 1px 2px rgba(0, 0, 0, 0.3));\n",
       "      fill: #FFFFFF;\n",
       "    }\n",
       "  </style>\n",
       "\n",
       "    <script>\n",
       "      const buttonEl =\n",
       "        document.querySelector('#df-86908950-0ddf-40af-bfb8-4b2c437535b4 button.colab-df-convert');\n",
       "      buttonEl.style.display =\n",
       "        google.colab.kernel.accessAllowed ? 'block' : 'none';\n",
       "\n",
       "      async function convertToInteractive(key) {\n",
       "        const element = document.querySelector('#df-86908950-0ddf-40af-bfb8-4b2c437535b4');\n",
       "        const dataTable =\n",
       "          await google.colab.kernel.invokeFunction('convertToInteractive',\n",
       "                                                    [key], {});\n",
       "        if (!dataTable) return;\n",
       "\n",
       "        const docLinkHtml = 'Like what you see? Visit the ' +\n",
       "          '<a target=\"_blank\" href=https://colab.research.google.com/notebooks/data_table.ipynb>data table notebook</a>'\n",
       "          + ' to learn more about interactive tables.';\n",
       "        element.innerHTML = '';\n",
       "        dataTable['output_type'] = 'display_data';\n",
       "        await google.colab.output.renderOutput(dataTable, element);\n",
       "        const docLink = document.createElement('div');\n",
       "        docLink.innerHTML = docLinkHtml;\n",
       "        element.appendChild(docLink);\n",
       "      }\n",
       "    </script>\n",
       "  </div>\n",
       "\n",
       "\n",
       "<div id=\"df-12b297d4-d448-4b60-b7d8-af79203574ad\">\n",
       "  <button class=\"colab-df-quickchart\" onclick=\"quickchart('df-12b297d4-d448-4b60-b7d8-af79203574ad')\"\n",
       "            title=\"Suggest charts\"\n",
       "            style=\"display:none;\">\n",
       "\n",
       "<svg xmlns=\"http://www.w3.org/2000/svg\" height=\"24px\"viewBox=\"0 0 24 24\"\n",
       "     width=\"24px\">\n",
       "    <g>\n",
       "        <path d=\"M19 3H5c-1.1 0-2 .9-2 2v14c0 1.1.9 2 2 2h14c1.1 0 2-.9 2-2V5c0-1.1-.9-2-2-2zM9 17H7v-7h2v7zm4 0h-2V7h2v10zm4 0h-2v-4h2v4z\"/>\n",
       "    </g>\n",
       "</svg>\n",
       "  </button>\n",
       "\n",
       "<style>\n",
       "  .colab-df-quickchart {\n",
       "      --bg-color: #E8F0FE;\n",
       "      --fill-color: #1967D2;\n",
       "      --hover-bg-color: #E2EBFA;\n",
       "      --hover-fill-color: #174EA6;\n",
       "      --disabled-fill-color: #AAA;\n",
       "      --disabled-bg-color: #DDD;\n",
       "  }\n",
       "\n",
       "  [theme=dark] .colab-df-quickchart {\n",
       "      --bg-color: #3B4455;\n",
       "      --fill-color: #D2E3FC;\n",
       "      --hover-bg-color: #434B5C;\n",
       "      --hover-fill-color: #FFFFFF;\n",
       "      --disabled-bg-color: #3B4455;\n",
       "      --disabled-fill-color: #666;\n",
       "  }\n",
       "\n",
       "  .colab-df-quickchart {\n",
       "    background-color: var(--bg-color);\n",
       "    border: none;\n",
       "    border-radius: 50%;\n",
       "    cursor: pointer;\n",
       "    display: none;\n",
       "    fill: var(--fill-color);\n",
       "    height: 32px;\n",
       "    padding: 0;\n",
       "    width: 32px;\n",
       "  }\n",
       "\n",
       "  .colab-df-quickchart:hover {\n",
       "    background-color: var(--hover-bg-color);\n",
       "    box-shadow: 0 1px 2px rgba(60, 64, 67, 0.3), 0 1px 3px 1px rgba(60, 64, 67, 0.15);\n",
       "    fill: var(--button-hover-fill-color);\n",
       "  }\n",
       "\n",
       "  .colab-df-quickchart-complete:disabled,\n",
       "  .colab-df-quickchart-complete:disabled:hover {\n",
       "    background-color: var(--disabled-bg-color);\n",
       "    fill: var(--disabled-fill-color);\n",
       "    box-shadow: none;\n",
       "  }\n",
       "\n",
       "  .colab-df-spinner {\n",
       "    border: 2px solid var(--fill-color);\n",
       "    border-color: transparent;\n",
       "    border-bottom-color: var(--fill-color);\n",
       "    animation:\n",
       "      spin 1s steps(1) infinite;\n",
       "  }\n",
       "\n",
       "  @keyframes spin {\n",
       "    0% {\n",
       "      border-color: transparent;\n",
       "      border-bottom-color: var(--fill-color);\n",
       "      border-left-color: var(--fill-color);\n",
       "    }\n",
       "    20% {\n",
       "      border-color: transparent;\n",
       "      border-left-color: var(--fill-color);\n",
       "      border-top-color: var(--fill-color);\n",
       "    }\n",
       "    30% {\n",
       "      border-color: transparent;\n",
       "      border-left-color: var(--fill-color);\n",
       "      border-top-color: var(--fill-color);\n",
       "      border-right-color: var(--fill-color);\n",
       "    }\n",
       "    40% {\n",
       "      border-color: transparent;\n",
       "      border-right-color: var(--fill-color);\n",
       "      border-top-color: var(--fill-color);\n",
       "    }\n",
       "    60% {\n",
       "      border-color: transparent;\n",
       "      border-right-color: var(--fill-color);\n",
       "    }\n",
       "    80% {\n",
       "      border-color: transparent;\n",
       "      border-right-color: var(--fill-color);\n",
       "      border-bottom-color: var(--fill-color);\n",
       "    }\n",
       "    90% {\n",
       "      border-color: transparent;\n",
       "      border-bottom-color: var(--fill-color);\n",
       "    }\n",
       "  }\n",
       "</style>\n",
       "\n",
       "  <script>\n",
       "    async function quickchart(key) {\n",
       "      const quickchartButtonEl =\n",
       "        document.querySelector('#' + key + ' button');\n",
       "      quickchartButtonEl.disabled = true;  // To prevent multiple clicks.\n",
       "      quickchartButtonEl.classList.add('colab-df-spinner');\n",
       "      try {\n",
       "        const charts = await google.colab.kernel.invokeFunction(\n",
       "            'suggestCharts', [key], {});\n",
       "      } catch (error) {\n",
       "        console.error('Error during call to suggestCharts:', error);\n",
       "      }\n",
       "      quickchartButtonEl.classList.remove('colab-df-spinner');\n",
       "      quickchartButtonEl.classList.add('colab-df-quickchart-complete');\n",
       "    }\n",
       "    (() => {\n",
       "      let quickchartButtonEl =\n",
       "        document.querySelector('#df-12b297d4-d448-4b60-b7d8-af79203574ad button');\n",
       "      quickchartButtonEl.style.display =\n",
       "        google.colab.kernel.accessAllowed ? 'block' : 'none';\n",
       "    })();\n",
       "  </script>\n",
       "</div>\n",
       "\n",
       "    </div>\n",
       "  </div>\n"
      ],
      "text/plain": [
       "   year           name  playerId     playerSlug positionId teamId    status  \\\n",
       "0  1999  Allen Iverson       366  allen-iverson         SG    PHI  inactive   \n",
       "1  2000  Allen Iverson       366  allen-iverson         SG    PHI  inactive   \n",
       "2  2001  Allen Iverson       366  allen-iverson         SG    PHI  inactive   \n",
       "3  2002  Allen Iverson       366  allen-iverson         SG    PHI  inactive   \n",
       "4  2003  Allen Iverson       366  allen-iverson         SG    PHI  inactive   \n",
       "\n",
       "   gamesPlayed  avgMinutes  avgFouls  ...        position  birthdate  \\\n",
       "0         48.0   41.458332  2.041667  ...  Shooting Guard   6/7/1975   \n",
       "1         70.0   40.757140  2.314286  ...  Shooting Guard   6/7/1975   \n",
       "2         71.0   41.957745  2.070423  ...  Shooting Guard   6/7/1975   \n",
       "3         60.0   43.700000  1.700000  ...  Shooting Guard   6/7/1975   \n",
       "4         82.0   42.500000  1.817073  ...  Shooting Guard   6/7/1975   \n",
       "\n",
       "      college               draftinfo   birthplace  team  htwt  experience  \\\n",
       "0  Georgetown  1996: Rd 1, Pk 1 (PHI)  Hampton, VA   NaN   NaN         NaN   \n",
       "1  Georgetown  1996: Rd 1, Pk 1 (PHI)  Hampton, VA   NaN   NaN         NaN   \n",
       "2  Georgetown  1996: Rd 1, Pk 1 (PHI)  Hampton, VA   NaN   NaN         NaN   \n",
       "3  Georgetown  1996: Rd 1, Pk 1 (PHI)  Hampton, VA   NaN   NaN         NaN   \n",
       "4  Georgetown  1996: Rd 1, Pk 1 (PHI)  Hampton, VA   NaN   NaN         NaN   \n",
       "\n",
       "   rankingSalary       salary  \n",
       "0             15   $9,000,000  \n",
       "1             27  $10,125,000  \n",
       "2             17  $11,250,000  \n",
       "3             14  $12,375,000  \n",
       "4             11  $13,500,000  \n",
       "\n",
       "[5 rows x 54 columns]"
      ]
     },
     "execution_count": 4,
     "metadata": {},
     "output_type": "execute_result"
    }
   ],
   "source": [
    "df.head()"
   ]
  },
  {
   "cell_type": "code",
   "execution_count": 5,
   "metadata": {
    "executionInfo": {
     "elapsed": 9,
     "status": "ok",
     "timestamp": 1726321904229,
     "user": {
      "displayName": "Erneson Oliveira",
      "userId": "17230374484800502697"
     },
     "user_tz": 180
    },
    "id": "5dmGi93uVLuz"
   },
   "outputs": [],
   "source": [
    "# df[df['name'] == 'LeBron James']"
   ]
  },
  {
   "cell_type": "code",
   "execution_count": 6,
   "metadata": {
    "colab": {
     "base_uri": "https://localhost:8080/"
    },
    "executionInfo": {
     "elapsed": 9,
     "status": "ok",
     "timestamp": 1726321904229,
     "user": {
      "displayName": "Erneson Oliveira",
      "userId": "17230374484800502697"
     },
     "user_tz": 180
    },
    "id": "UN5SsPmRHZm3",
    "outputId": "abf27557-bbad-438c-f70b-d0f478ee4f20"
   },
   "outputs": [
    {
     "name": "stdout",
     "output_type": "stream",
     "text": [
      "<class 'pandas.core.frame.DataFrame'>\n",
      "RangeIndex: 8162 entries, 0 to 8161\n",
      "Data columns (total 54 columns):\n",
      " #   Column                            Non-Null Count  Dtype  \n",
      "---  ------                            --------------  -----  \n",
      " 0   year                              8162 non-null   int64  \n",
      " 1   name                              8162 non-null   object \n",
      " 2   playerId                          8162 non-null   int64  \n",
      " 3   playerSlug                        8162 non-null   object \n",
      " 4   positionId                        8156 non-null   object \n",
      " 5   teamId                            8162 non-null   object \n",
      " 6   status                            8162 non-null   object \n",
      " 7   gamesPlayed                       8162 non-null   float64\n",
      " 8   avgMinutes                        8162 non-null   float64\n",
      " 9   avgFouls                          8162 non-null   float64\n",
      " 10  flagrantFouls                     8162 non-null   float64\n",
      " 11  technicalFouls                    8162 non-null   float64\n",
      " 12  ejections                         8162 non-null   float64\n",
      " 13  doubleDouble                      8162 non-null   float64\n",
      " 14  tripleDouble                      8162 non-null   float64\n",
      " 15  minutes                           8162 non-null   float64\n",
      " 16  rebounds                          8162 non-null   float64\n",
      " 17  fouls                             8162 non-null   float64\n",
      " 18  avgRebounds                       8162 non-null   float64\n",
      " 19  avgPoints                         8162 non-null   float64\n",
      " 20  avgFieldGoalsMade                 8162 non-null   float64\n",
      " 21  avgFieldGoalsAttempted            8162 non-null   float64\n",
      " 22  fieldGoalPct                      8162 non-null   float64\n",
      " 23  avgThreePointFieldGoalsMade       8162 non-null   float64\n",
      " 24  avgThreePointFieldGoalsAttempted  8162 non-null   float64\n",
      " 25  threePointFieldGoalPct            8162 non-null   float64\n",
      " 26  avgFreeThrowsMade                 8162 non-null   float64\n",
      " 27  avgFreeThrowsAttempted            8162 non-null   float64\n",
      " 28  freeThrowPct                      8162 non-null   float64\n",
      " 29  avgAssists                        8162 non-null   float64\n",
      " 30  avgTurnovers                      8162 non-null   float64\n",
      " 31  points                            8162 non-null   float64\n",
      " 32  fieldGoalsMade                    8162 non-null   float64\n",
      " 33  fieldGoalsAttempted               8162 non-null   float64\n",
      " 34  threePointFieldGoalsMade          8162 non-null   float64\n",
      " 35  threePointFieldGoalsAttempted     8162 non-null   float64\n",
      " 36  freeThrowsMade                    8162 non-null   float64\n",
      " 37  freeThrowsAttempted               8162 non-null   float64\n",
      " 38  assists                           8162 non-null   float64\n",
      " 39  turnovers                         8162 non-null   float64\n",
      " 40  avgSteals                         8162 non-null   float64\n",
      " 41  avgBlocks                         8162 non-null   float64\n",
      " 42  steals                            8162 non-null   float64\n",
      " 43  blocks                            8162 non-null   float64\n",
      " 44  position                          8162 non-null   object \n",
      " 45  birthdate                         8162 non-null   object \n",
      " 46  college                           6750 non-null   object \n",
      " 47  draftinfo                         6977 non-null   object \n",
      " 48  birthplace                        7947 non-null   object \n",
      " 49  team                              2304 non-null   object \n",
      " 50  htwt                              2304 non-null   object \n",
      " 51  experience                        2304 non-null   object \n",
      " 52  rankingSalary                     8162 non-null   int64  \n",
      " 53  salary                            8162 non-null   object \n",
      "dtypes: float64(37), int64(3), object(14)\n",
      "memory usage: 3.4+ MB\n"
     ]
    }
   ],
   "source": [
    "df.info()"
   ]
  },
  {
   "cell_type": "code",
   "execution_count": 7,
   "metadata": {
    "executionInfo": {
     "elapsed": 7,
     "status": "ok",
     "timestamp": 1726321904229,
     "user": {
      "displayName": "Erneson Oliveira",
      "userId": "17230374484800502697"
     },
     "user_tz": 180
    },
    "id": "fbbqUjbpcoAd"
   },
   "outputs": [],
   "source": [
    "df['salary'] = df['salary'].astype(str).str.replace(r'\\$|,', '', regex = True).astype(np.float64)"
   ]
  },
  {
   "cell_type": "code",
   "execution_count": 8,
   "metadata": {
    "executionInfo": {
     "elapsed": 7,
     "status": "ok",
     "timestamp": 1726321904229,
     "user": {
      "displayName": "Erneson Oliveira",
      "userId": "17230374484800502697"
     },
     "user_tz": 180
    },
    "id": "8XK-Od4BLHJs"
   },
   "outputs": [],
   "source": [
    "# corr_matrix = df.corr(numeric_only = True)"
   ]
  },
  {
   "cell_type": "code",
   "execution_count": 9,
   "metadata": {
    "executionInfo": {
     "elapsed": 9,
     "status": "ok",
     "timestamp": 1726321904231,
     "user": {
      "displayName": "Erneson Oliveira",
      "userId": "17230374484800502697"
     },
     "user_tz": 180
    },
    "id": "zT5QpH2pLMc0"
   },
   "outputs": [],
   "source": [
    "# columns = list(corr_matrix.columns)\n",
    "\n",
    "# cm = plt.get_cmap('jet') # viridis,inferno,plasma\n",
    "\n",
    "# fig, ax = plt.subplots(figsize = (10, 10))\n",
    "# ax.matshow(corr_matrix,cmap=cm)\n",
    "\n",
    "# # cbar = plt.colorbar()\n",
    "# # cbar.ax.set_ylabel('r')\n",
    "\n",
    "# # ax = plt.gca() # get the current axes\n",
    "# ax.set_xticks(range(len(columns)))\n",
    "# ax.set_yticks(range(len(columns)))\n",
    "# ax.set_xticklabels(columns)\n",
    "# ax.set_yticklabels(columns)\n",
    "\n",
    "# # Rotate the tick labels and set their alignment\n",
    "# r = plt.setp(ax.get_xticklabels(), rotation=45, ha=\"left\", rotation_mode=\"anchor\")"
   ]
  },
  {
   "cell_type": "code",
   "execution_count": 10,
   "metadata": {
    "executionInfo": {
     "elapsed": 9,
     "status": "ok",
     "timestamp": 1726321904231,
     "user": {
      "displayName": "Erneson Oliveira",
      "userId": "17230374484800502697"
     },
     "user_tz": 180
    },
    "id": "tPB7HpIfvuf-"
   },
   "outputs": [],
   "source": [
    "cols = ['positionId',\n",
    "        'gamesPlayed',\n",
    "        'avgMinutes',\n",
    "        'avgFouls',\n",
    "        'flagrantFouls',\n",
    "        'technicalFouls',\n",
    "        'ejections',\n",
    "        'doubleDouble',\n",
    "        'tripleDouble',\n",
    "        'minutes',\n",
    "        'rebounds',\n",
    "        'fouls',\n",
    "        'avgRebounds',\n",
    "        'avgPoints',\n",
    "        'avgFieldGoalsMade',\n",
    "        'avgFieldGoalsAttempted',\n",
    "        'fieldGoalPct',\n",
    "        'avgThreePointFieldGoalsMade',\n",
    "        'avgThreePointFieldGoalsAttempted',\n",
    "        'threePointFieldGoalPct',\n",
    "        'avgFreeThrowsMade',\n",
    "        'avgFreeThrowsAttempted',\n",
    "        'freeThrowPct',\n",
    "        'avgAssists',\n",
    "        'avgTurnovers',\n",
    "        'points',\n",
    "        'fieldGoalsMade',\n",
    "        'fieldGoalsAttempted',\n",
    "        'threePointFieldGoalsMade',\n",
    "        'threePointFieldGoalsAttempted',\n",
    "        'freeThrowsMade',\n",
    "        'freeThrowsAttempted',\n",
    "        'assists',\n",
    "        'turnovers',\n",
    "        'avgSteals',\n",
    "        'avgBlocks',\n",
    "        'steals',\n",
    "        'blocks',\n",
    "        'salary']\n",
    "\n",
    "df = df[cols]"
   ]
  },
  {
   "cell_type": "code",
   "execution_count": 11,
   "metadata": {
    "executionInfo": {
     "elapsed": 8,
     "status": "ok",
     "timestamp": 1726321904231,
     "user": {
      "displayName": "Erneson Oliveira",
      "userId": "17230374484800502697"
     },
     "user_tz": 180
    },
    "id": "Hz57OaeUwh0M"
   },
   "outputs": [],
   "source": [
    "df = df[df['positionId'] != 'GF'].reset_index(drop = True)"
   ]
  },
  {
   "cell_type": "code",
   "execution_count": 12,
   "metadata": {
    "executionInfo": {
     "elapsed": 8,
     "status": "ok",
     "timestamp": 1726321904231,
     "user": {
      "displayName": "Erneson Oliveira",
      "userId": "17230374484800502697"
     },
     "user_tz": 180
    },
    "id": "AHUugdOFy3qC"
   },
   "outputs": [],
   "source": [
    "df['positionId'].fillna('missing', inplace = True)"
   ]
  },
  {
   "cell_type": "code",
   "execution_count": 13,
   "metadata": {
    "colab": {
     "base_uri": "https://localhost:8080/"
    },
    "executionInfo": {
     "elapsed": 8,
     "status": "ok",
     "timestamp": 1726321904231,
     "user": {
      "displayName": "Erneson Oliveira",
      "userId": "17230374484800502697"
     },
     "user_tz": 180
    },
    "id": "DxFOs1evxmy1",
    "outputId": "23cf3e79-7fe0-4c89-9fae-5b507fa3d11d"
   },
   "outputs": [
    {
     "name": "stdout",
     "output_type": "stream",
     "text": [
      "<class 'pandas.core.frame.DataFrame'>\n",
      "RangeIndex: 8161 entries, 0 to 8160\n",
      "Data columns (total 39 columns):\n",
      " #   Column                            Non-Null Count  Dtype  \n",
      "---  ------                            --------------  -----  \n",
      " 0   positionId                        8161 non-null   object \n",
      " 1   gamesPlayed                       8161 non-null   float64\n",
      " 2   avgMinutes                        8161 non-null   float64\n",
      " 3   avgFouls                          8161 non-null   float64\n",
      " 4   flagrantFouls                     8161 non-null   float64\n",
      " 5   technicalFouls                    8161 non-null   float64\n",
      " 6   ejections                         8161 non-null   float64\n",
      " 7   doubleDouble                      8161 non-null   float64\n",
      " 8   tripleDouble                      8161 non-null   float64\n",
      " 9   minutes                           8161 non-null   float64\n",
      " 10  rebounds                          8161 non-null   float64\n",
      " 11  fouls                             8161 non-null   float64\n",
      " 12  avgRebounds                       8161 non-null   float64\n",
      " 13  avgPoints                         8161 non-null   float64\n",
      " 14  avgFieldGoalsMade                 8161 non-null   float64\n",
      " 15  avgFieldGoalsAttempted            8161 non-null   float64\n",
      " 16  fieldGoalPct                      8161 non-null   float64\n",
      " 17  avgThreePointFieldGoalsMade       8161 non-null   float64\n",
      " 18  avgThreePointFieldGoalsAttempted  8161 non-null   float64\n",
      " 19  threePointFieldGoalPct            8161 non-null   float64\n",
      " 20  avgFreeThrowsMade                 8161 non-null   float64\n",
      " 21  avgFreeThrowsAttempted            8161 non-null   float64\n",
      " 22  freeThrowPct                      8161 non-null   float64\n",
      " 23  avgAssists                        8161 non-null   float64\n",
      " 24  avgTurnovers                      8161 non-null   float64\n",
      " 25  points                            8161 non-null   float64\n",
      " 26  fieldGoalsMade                    8161 non-null   float64\n",
      " 27  fieldGoalsAttempted               8161 non-null   float64\n",
      " 28  threePointFieldGoalsMade          8161 non-null   float64\n",
      " 29  threePointFieldGoalsAttempted     8161 non-null   float64\n",
      " 30  freeThrowsMade                    8161 non-null   float64\n",
      " 31  freeThrowsAttempted               8161 non-null   float64\n",
      " 32  assists                           8161 non-null   float64\n",
      " 33  turnovers                         8161 non-null   float64\n",
      " 34  avgSteals                         8161 non-null   float64\n",
      " 35  avgBlocks                         8161 non-null   float64\n",
      " 36  steals                            8161 non-null   float64\n",
      " 37  blocks                            8161 non-null   float64\n",
      " 38  salary                            8161 non-null   float64\n",
      "dtypes: float64(38), object(1)\n",
      "memory usage: 2.4+ MB\n"
     ]
    }
   ],
   "source": [
    "df.info()"
   ]
  },
  {
   "cell_type": "code",
   "execution_count": 14,
   "metadata": {
    "executionInfo": {
     "elapsed": 1186,
     "status": "ok",
     "timestamp": 1726322002269,
     "user": {
      "displayName": "Erneson Oliveira",
      "userId": "17230374484800502697"
     },
     "user_tz": 180
    },
    "id": "DDhIdAleR6yo"
   },
   "outputs": [],
   "source": [
    "from sklearn.model_selection import train_test_split\n",
    "\n",
    "test_size = 0.2 # Test set size: 20%\n",
    "random_state = 42 # Random seed\n",
    "strat_train_set, strat_test_set = train_test_split(df,\n",
    "                                                   test_size = test_size,\n",
    "                                                   random_state = random_state,\n",
    "                                                   stratify = df['positionId'])"
   ]
  },
  {
   "cell_type": "code",
   "execution_count": 15,
   "metadata": {
    "colab": {
     "base_uri": "https://localhost:8080/"
    },
    "executionInfo": {
     "elapsed": 374,
     "status": "ok",
     "timestamp": 1726322177638,
     "user": {
      "displayName": "Erneson Oliveira",
      "userId": "17230374484800502697"
     },
     "user_tz": 180
    },
    "id": "XeONlnlfSAJA",
    "outputId": "d4f1f2a4-294b-4949-d35b-35e93f558b9e"
   },
   "outputs": [
    {
     "name": "stdout",
     "output_type": "stream",
     "text": [
      "<class 'pandas.core.frame.DataFrame'>\n",
      "Index: 6528 entries, 1307 to 1846\n",
      "Data columns (total 39 columns):\n",
      " #   Column                            Non-Null Count  Dtype  \n",
      "---  ------                            --------------  -----  \n",
      " 0   positionId                        6528 non-null   object \n",
      " 1   gamesPlayed                       6528 non-null   float64\n",
      " 2   avgMinutes                        6528 non-null   float64\n",
      " 3   avgFouls                          6528 non-null   float64\n",
      " 4   flagrantFouls                     6528 non-null   float64\n",
      " 5   technicalFouls                    6528 non-null   float64\n",
      " 6   ejections                         6528 non-null   float64\n",
      " 7   doubleDouble                      6528 non-null   float64\n",
      " 8   tripleDouble                      6528 non-null   float64\n",
      " 9   minutes                           6528 non-null   float64\n",
      " 10  rebounds                          6528 non-null   float64\n",
      " 11  fouls                             6528 non-null   float64\n",
      " 12  avgRebounds                       6528 non-null   float64\n",
      " 13  avgPoints                         6528 non-null   float64\n",
      " 14  avgFieldGoalsMade                 6528 non-null   float64\n",
      " 15  avgFieldGoalsAttempted            6528 non-null   float64\n",
      " 16  fieldGoalPct                      6528 non-null   float64\n",
      " 17  avgThreePointFieldGoalsMade       6528 non-null   float64\n",
      " 18  avgThreePointFieldGoalsAttempted  6528 non-null   float64\n",
      " 19  threePointFieldGoalPct            6528 non-null   float64\n",
      " 20  avgFreeThrowsMade                 6528 non-null   float64\n",
      " 21  avgFreeThrowsAttempted            6528 non-null   float64\n",
      " 22  freeThrowPct                      6528 non-null   float64\n",
      " 23  avgAssists                        6528 non-null   float64\n",
      " 24  avgTurnovers                      6528 non-null   float64\n",
      " 25  points                            6528 non-null   float64\n",
      " 26  fieldGoalsMade                    6528 non-null   float64\n",
      " 27  fieldGoalsAttempted               6528 non-null   float64\n",
      " 28  threePointFieldGoalsMade          6528 non-null   float64\n",
      " 29  threePointFieldGoalsAttempted     6528 non-null   float64\n",
      " 30  freeThrowsMade                    6528 non-null   float64\n",
      " 31  freeThrowsAttempted               6528 non-null   float64\n",
      " 32  assists                           6528 non-null   float64\n",
      " 33  turnovers                         6528 non-null   float64\n",
      " 34  avgSteals                         6528 non-null   float64\n",
      " 35  avgBlocks                         6528 non-null   float64\n",
      " 36  steals                            6528 non-null   float64\n",
      " 37  blocks                            6528 non-null   float64\n",
      " 38  salary                            6528 non-null   float64\n",
      "dtypes: float64(38), object(1)\n",
      "memory usage: 2.0+ MB\n"
     ]
    }
   ],
   "source": [
    "strat_train_set.info()"
   ]
  },
  {
   "cell_type": "code",
   "execution_count": 16,
   "metadata": {
    "colab": {
     "base_uri": "https://localhost:8080/"
    },
    "executionInfo": {
     "elapsed": 436,
     "status": "ok",
     "timestamp": 1726322190949,
     "user": {
      "displayName": "Erneson Oliveira",
      "userId": "17230374484800502697"
     },
     "user_tz": 180
    },
    "id": "OYUo2dmASZbJ",
    "outputId": "e7001454-a748-4950-adce-52ed69f7cff4"
   },
   "outputs": [
    {
     "name": "stdout",
     "output_type": "stream",
     "text": [
      "<class 'pandas.core.frame.DataFrame'>\n",
      "Index: 1633 entries, 3211 to 7578\n",
      "Data columns (total 39 columns):\n",
      " #   Column                            Non-Null Count  Dtype  \n",
      "---  ------                            --------------  -----  \n",
      " 0   positionId                        1633 non-null   object \n",
      " 1   gamesPlayed                       1633 non-null   float64\n",
      " 2   avgMinutes                        1633 non-null   float64\n",
      " 3   avgFouls                          1633 non-null   float64\n",
      " 4   flagrantFouls                     1633 non-null   float64\n",
      " 5   technicalFouls                    1633 non-null   float64\n",
      " 6   ejections                         1633 non-null   float64\n",
      " 7   doubleDouble                      1633 non-null   float64\n",
      " 8   tripleDouble                      1633 non-null   float64\n",
      " 9   minutes                           1633 non-null   float64\n",
      " 10  rebounds                          1633 non-null   float64\n",
      " 11  fouls                             1633 non-null   float64\n",
      " 12  avgRebounds                       1633 non-null   float64\n",
      " 13  avgPoints                         1633 non-null   float64\n",
      " 14  avgFieldGoalsMade                 1633 non-null   float64\n",
      " 15  avgFieldGoalsAttempted            1633 non-null   float64\n",
      " 16  fieldGoalPct                      1633 non-null   float64\n",
      " 17  avgThreePointFieldGoalsMade       1633 non-null   float64\n",
      " 18  avgThreePointFieldGoalsAttempted  1633 non-null   float64\n",
      " 19  threePointFieldGoalPct            1633 non-null   float64\n",
      " 20  avgFreeThrowsMade                 1633 non-null   float64\n",
      " 21  avgFreeThrowsAttempted            1633 non-null   float64\n",
      " 22  freeThrowPct                      1633 non-null   float64\n",
      " 23  avgAssists                        1633 non-null   float64\n",
      " 24  avgTurnovers                      1633 non-null   float64\n",
      " 25  points                            1633 non-null   float64\n",
      " 26  fieldGoalsMade                    1633 non-null   float64\n",
      " 27  fieldGoalsAttempted               1633 non-null   float64\n",
      " 28  threePointFieldGoalsMade          1633 non-null   float64\n",
      " 29  threePointFieldGoalsAttempted     1633 non-null   float64\n",
      " 30  freeThrowsMade                    1633 non-null   float64\n",
      " 31  freeThrowsAttempted               1633 non-null   float64\n",
      " 32  assists                           1633 non-null   float64\n",
      " 33  turnovers                         1633 non-null   float64\n",
      " 34  avgSteals                         1633 non-null   float64\n",
      " 35  avgBlocks                         1633 non-null   float64\n",
      " 36  steals                            1633 non-null   float64\n",
      " 37  blocks                            1633 non-null   float64\n",
      " 38  salary                            1633 non-null   float64\n",
      "dtypes: float64(38), object(1)\n",
      "memory usage: 510.3+ KB\n"
     ]
    }
   ],
   "source": [
    "strat_test_set.info()"
   ]
  },
  {
   "cell_type": "code",
   "execution_count": 20,
   "metadata": {
    "executionInfo": {
     "elapsed": 331,
     "status": "ok",
     "timestamp": 1726322735839,
     "user": {
      "displayName": "Erneson Oliveira",
      "userId": "17230374484800502697"
     },
     "user_tz": 180
    },
    "id": "-PrPluqp1KlG"
   },
   "outputs": [],
   "source": [
    "nba = strat_train_set.drop('salary', axis = 1) # X without 1's\n",
    "nba_num = nba.drop('positionId',axis=1) # numerical columns only\n",
    "nba_cat = nba['positionId'] # Categorical attributes only\n",
    "nba_labels = strat_train_set['salary'].copy() # y"
   ]
  },
  {
   "cell_type": "code",
   "execution_count": 21,
   "metadata": {
    "colab": {
     "base_uri": "https://localhost:8080/",
     "height": 355
    },
    "executionInfo": {
     "elapsed": 826,
     "status": "error",
     "timestamp": 1726322742074,
     "user": {
      "displayName": "Erneson Oliveira",
      "userId": "17230374484800502697"
     },
     "user_tz": 180
    },
    "id": "MVFZ-FGzmzPH",
    "outputId": "c9bacc17-b4f1-4cf2-c434-a4425cddb6ab"
   },
   "outputs": [
    {
     "ename": "AttributeError",
     "evalue": "'Series' object has no attribute 'columns'",
     "output_type": "error",
     "traceback": [
      "\u001b[0;31m---------------------------------------------------------------------------\u001b[0m",
      "\u001b[0;31mAttributeError\u001b[0m                            Traceback (most recent call last)",
      "\u001b[0;32m<ipython-input-21-39b58691196e>\u001b[0m in \u001b[0;36m<cell line: 9>\u001b[0;34m()\u001b[0m\n\u001b[1;32m      7\u001b[0m \u001b[0mnum_attribs\u001b[0m \u001b[0;34m=\u001b[0m \u001b[0mnba_num\u001b[0m\u001b[0;34m.\u001b[0m\u001b[0mcolumns\u001b[0m\u001b[0;34m.\u001b[0m\u001b[0mtolist\u001b[0m\u001b[0;34m(\u001b[0m\u001b[0;34m)\u001b[0m\u001b[0;34m\u001b[0m\u001b[0;34m\u001b[0m\u001b[0m\n\u001b[1;32m      8\u001b[0m \u001b[0;34m\u001b[0m\u001b[0m\n\u001b[0;32m----> 9\u001b[0;31m \u001b[0mcat_attribs\u001b[0m \u001b[0;34m=\u001b[0m \u001b[0mnba_cat\u001b[0m\u001b[0;34m.\u001b[0m\u001b[0mcolumns\u001b[0m\u001b[0;34m.\u001b[0m\u001b[0mtolist\u001b[0m\u001b[0;34m(\u001b[0m\u001b[0;34m)\u001b[0m\u001b[0;34m\u001b[0m\u001b[0;34m\u001b[0m\u001b[0m\n\u001b[0m\u001b[1;32m     10\u001b[0m \u001b[0;34m\u001b[0m\u001b[0m\n\u001b[1;32m     11\u001b[0m num_pipeline = Pipeline([('imputer', SimpleImputer(strategy = 'mean')),\n",
      "\u001b[0;32m/usr/local/lib/python3.10/dist-packages/pandas/core/generic.py\u001b[0m in \u001b[0;36m__getattr__\u001b[0;34m(self, name)\u001b[0m\n\u001b[1;32m   6202\u001b[0m         ):\n\u001b[1;32m   6203\u001b[0m             \u001b[0;32mreturn\u001b[0m \u001b[0mself\u001b[0m\u001b[0;34m[\u001b[0m\u001b[0mname\u001b[0m\u001b[0;34m]\u001b[0m\u001b[0;34m\u001b[0m\u001b[0;34m\u001b[0m\u001b[0m\n\u001b[0;32m-> 6204\u001b[0;31m         \u001b[0;32mreturn\u001b[0m \u001b[0mobject\u001b[0m\u001b[0;34m.\u001b[0m\u001b[0m__getattribute__\u001b[0m\u001b[0;34m(\u001b[0m\u001b[0mself\u001b[0m\u001b[0;34m,\u001b[0m \u001b[0mname\u001b[0m\u001b[0;34m)\u001b[0m\u001b[0;34m\u001b[0m\u001b[0;34m\u001b[0m\u001b[0m\n\u001b[0m\u001b[1;32m   6205\u001b[0m \u001b[0;34m\u001b[0m\u001b[0m\n\u001b[1;32m   6206\u001b[0m     \u001b[0;34m@\u001b[0m\u001b[0mfinal\u001b[0m\u001b[0;34m\u001b[0m\u001b[0;34m\u001b[0m\u001b[0m\n",
      "\u001b[0;31mAttributeError\u001b[0m: 'Series' object has no attribute 'columns'"
     ]
    }
   ],
   "source": [
    "from sklearn.pipeline import Pipeline\n",
    "from sklearn.impute import SimpleImputer\n",
    "from sklearn.preprocessing import StandardScaler\n",
    "from sklearn.preprocessing import OneHotEncoder\n",
    "from sklearn.compose import ColumnTransformer\n",
    "\n",
    "num_attribs = nba_num.columns.tolist()\n",
    "\n",
    "cat_attribs = nba_cat.columns.tolist()\n",
    "\n",
    "num_pipeline = Pipeline([('imputer', SimpleImputer(strategy = 'mean')),\n",
    "                         ('scaler', StandardScaler())])\n",
    "\n",
    "cat_pipeline = Pipeline([('imputer', SimpleImputer(strategy='constant', fill_value='missing')),\n",
    "                         ('encoder', OneHotEncoder(sparse=False))])\n",
    "\n",
    "full_pipeline = ColumnTransformer(transformers = [('num_pipeline', num_pipeline, num_attribs),\n",
    "                                                  ('cat_pipeline', cat_pipeline, cat_attribs)])\n",
    "\n",
    "nba_prepared = full_pipeline.fit_transform(nba)\n",
    "print(nba_prepared.shape)\n",
    "nba_prepared"
   ]
  },
  {
   "cell_type": "code",
   "execution_count": null,
   "metadata": {
    "id": "BkyWgQp916j5"
   },
   "outputs": [],
   "source": [
    "from sklearn.ensemble import RandomForestRegressor\n",
    "from sklearn.model_selection import GridSearchCV\n",
    "\n",
    "rand_forest_reg = RandomForestRegressor()\n",
    "\n",
    "param_grid = [{'n_estimators': [3, 10, 30], 'max_features': [2, 4, 6, 8]}, # 3x4=12\n",
    "              {'bootstrap':[False],'n_estimators':[3,10],'max_features':[2,3,4]}] # 1x2x3=6\n",
    "\n",
    "grid_search = GridSearchCV(rand_forest_reg,\n",
    "                           param_grid,\n",
    "                           scoring = 'neg_mean_squared_error',\n",
    "                           refit = True,\n",
    "                           cv = 5, #5\n",
    "                           return_train_score=True) # 12+6=18\n",
    "\n",
    "grid_search.fit(nba_prepared, nba_labels) #18*5=90 rounds of training!\n",
    "\n",
    "print(grid_search.best_params_)"
   ]
  },
  {
   "cell_type": "code",
   "execution_count": null,
   "metadata": {
    "id": "DCfaTUnl2L6N"
   },
   "outputs": [],
   "source": [
    "rand_forest_reg = grid_search.best_estimator_ # Best trained model in the whole training set\n",
    "\n",
    "print(rand_forest_reg.get_params())"
   ]
  },
  {
   "cell_type": "code",
   "execution_count": null,
   "metadata": {
    "id": "ERhb9io72Opj"
   },
   "outputs": [],
   "source": [
    "d = grid_search.cv_results_\n",
    "\n",
    "for mean_train_score,mean_test_score,params in zip(d['mean_train_score'],d['mean_test_score'],d['params']): # test_score is validation_score in this context\n",
    "    print(np.sqrt(-mean_train_score),np.sqrt(-mean_test_score),params)"
   ]
  },
  {
   "cell_type": "markdown",
   "metadata": {
    "id": "3ZGZNFzsmzot"
   },
   "source": [
    "# Garbage"
   ]
  },
  {
   "cell_type": "code",
   "execution_count": null,
   "metadata": {
    "id": "Vqxvgm7lV6-7"
   },
   "outputs": [],
   "source": [
    "df['position'].value_counts()"
   ]
  },
  {
   "cell_type": "code",
   "execution_count": null,
   "metadata": {
    "id": "0SFEkaqNREzy"
   },
   "outputs": [],
   "source": [
    "df_filtrado = df[df['position'] != 'Guard-Forward']"
   ]
  },
  {
   "cell_type": "code",
   "execution_count": null,
   "metadata": {
    "id": "DxONtNnaciov"
   },
   "outputs": [],
   "source": [
    "df['salary'].value_counts()"
   ]
  },
  {
   "cell_type": "code",
   "execution_count": null,
   "metadata": {
    "id": "mWFiv7GxCv7L"
   },
   "outputs": [],
   "source": [
    "df['salary'].mean()"
   ]
  },
  {
   "cell_type": "code",
   "execution_count": null,
   "metadata": {
    "id": "TMg2vkElBXik"
   },
   "outputs": [],
   "source": [
    "df['salary'].hist(bins = 100)"
   ]
  },
  {
   "cell_type": "code",
   "execution_count": null,
   "metadata": {
    "id": "R8yOlQx7dIW0"
   },
   "outputs": [],
   "source": [
    "df[['positionId', 'salary']].groupby(['positionId']).mean().sort_values(by = 'salary').plot(kind = 'bar')"
   ]
  },
  {
   "cell_type": "code",
   "execution_count": null,
   "metadata": {
    "id": "bMscpqKxH53P"
   },
   "outputs": [],
   "source": [
    "pd.set_option('display.float_format', '{:.2f}'.format)"
   ]
  },
  {
   "cell_type": "code",
   "execution_count": null,
   "metadata": {
    "id": "4i07WkJNHoKZ"
   },
   "outputs": [],
   "source": [
    "grupo = df.groupby('positionId')['salary'].agg(['mean', 'median', 'sum', 'count','sem'])\n",
    "grupo"
   ]
  },
  {
   "cell_type": "code",
   "execution_count": null,
   "metadata": {
    "id": "tdglPmmwfMhW"
   },
   "outputs": [],
   "source": [
    "df = df[df['positionId'] != 'GF']"
   ]
  },
  {
   "cell_type": "code",
   "execution_count": null,
   "metadata": {
    "id": "aSQGspcPmk9D"
   },
   "outputs": [],
   "source": [
    "df['positionId'].value_counts().sum()"
   ]
  },
  {
   "cell_type": "code",
   "execution_count": null,
   "metadata": {
    "id": "gKkgpqOMLYzK"
   },
   "outputs": [],
   "source": [
    "corr_matrix['salary'].sort_values(ascending=False)"
   ]
  },
  {
   "cell_type": "code",
   "execution_count": null,
   "metadata": {
    "id": "33vVLHb8nafq"
   },
   "outputs": [],
   "source": [
    "g = df.hist(bins = 50, figsize = (20, 15))"
   ]
  },
  {
   "cell_type": "code",
   "execution_count": null,
   "metadata": {
    "id": "Evicb4YEok51"
   },
   "outputs": [],
   "source": [
    "num_attribs = []"
   ]
  }
 ],
 "metadata": {
  "colab": {
   "authorship_tag": "ABX9TyM3U7jltRb+VtVXbNsAtws6",
   "provenance": []
  },
  "kernelspec": {
   "display_name": "Python 3 (ipykernel)",
   "language": "python",
   "name": "python3"
  },
  "language_info": {
   "codemirror_mode": {
    "name": "ipython",
    "version": 3
   },
   "file_extension": ".py",
   "mimetype": "text/x-python",
   "name": "python",
   "nbconvert_exporter": "python",
   "pygments_lexer": "ipython3",
   "version": "3.9.12"
  }
 },
 "nbformat": 4,
 "nbformat_minor": 1
}
