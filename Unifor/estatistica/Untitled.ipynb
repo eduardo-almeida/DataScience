{
 "cells": [
  {
   "cell_type": "code",
   "execution_count": 1,
   "id": "63d5fca2",
   "metadata": {},
   "outputs": [],
   "source": [
    "import pandas as pd"
   ]
  },
  {
   "cell_type": "markdown",
   "id": "0b9cd6b5",
   "metadata": {},
   "source": [
    "# Produto Interno Bruto dos Municípios (2020)"
   ]
  },
  {
   "cell_type": "code",
   "execution_count": 5,
   "id": "14af2655",
   "metadata": {},
   "outputs": [],
   "source": [
    "dfProdutoInterno = pd.read_csv('data/produto_2020.csv')"
   ]
  },
  {
   "cell_type": "code",
   "execution_count": 6,
   "id": "efef1c2c",
   "metadata": {},
   "outputs": [
    {
     "data": {
      "text/html": [
       "<div>\n",
       "<style scoped>\n",
       "    .dataframe tbody tr th:only-of-type {\n",
       "        vertical-align: middle;\n",
       "    }\n",
       "\n",
       "    .dataframe tbody tr th {\n",
       "        vertical-align: top;\n",
       "    }\n",
       "\n",
       "    .dataframe thead th {\n",
       "        text-align: right;\n",
       "    }\n",
       "</style>\n",
       "<table border=\"1\" class=\"dataframe\">\n",
       "  <thead>\n",
       "    <tr style=\"text-align: right;\">\n",
       "      <th></th>\n",
       "      <th>Cód.</th>\n",
       "      <th>Município</th>\n",
       "      <th>PIB (Mil Reais)</th>\n",
       "      <th>Impostos (Mil Reais)</th>\n",
       "      <th>VA da agropecuária (Mil Reais)</th>\n",
       "      <th>VA da indústria (Mil Reais)</th>\n",
       "      <th>VA dos serviços (Mil Reais)</th>\n",
       "      <th>VA da administração pública (Mil Reais)</th>\n",
       "    </tr>\n",
       "  </thead>\n",
       "  <tbody>\n",
       "    <tr>\n",
       "      <th>0</th>\n",
       "      <td>1100015</td>\n",
       "      <td>Alta Floresta D'Oeste (RO)</td>\n",
       "      <td>570272.0</td>\n",
       "      <td>35109.0</td>\n",
       "      <td>203394.0</td>\n",
       "      <td>20716.0</td>\n",
       "      <td>150192.0</td>\n",
       "      <td>160860.0</td>\n",
       "    </tr>\n",
       "    <tr>\n",
       "      <th>1</th>\n",
       "      <td>1100023</td>\n",
       "      <td>Ariquemes (RO)</td>\n",
       "      <td>2818049.0</td>\n",
       "      <td>295656.0</td>\n",
       "      <td>199723.0</td>\n",
       "      <td>404752.0</td>\n",
       "      <td>1207405.0</td>\n",
       "      <td>710513.0</td>\n",
       "    </tr>\n",
       "    <tr>\n",
       "      <th>2</th>\n",
       "      <td>1100031</td>\n",
       "      <td>Cabixi (RO)</td>\n",
       "      <td>167190.0</td>\n",
       "      <td>7237.0</td>\n",
       "      <td>81177.0</td>\n",
       "      <td>5438.0</td>\n",
       "      <td>28667.0</td>\n",
       "      <td>44671.0</td>\n",
       "    </tr>\n",
       "    <tr>\n",
       "      <th>3</th>\n",
       "      <td>1100049</td>\n",
       "      <td>Cacoal (RO)</td>\n",
       "      <td>2519353.0</td>\n",
       "      <td>274451.0</td>\n",
       "      <td>236215.0</td>\n",
       "      <td>275537.0</td>\n",
       "      <td>1157344.0</td>\n",
       "      <td>575806.0</td>\n",
       "    </tr>\n",
       "    <tr>\n",
       "      <th>4</th>\n",
       "      <td>1100056</td>\n",
       "      <td>Cerejeiras (RO)</td>\n",
       "      <td>600670.0</td>\n",
       "      <td>89923.0</td>\n",
       "      <td>94758.0</td>\n",
       "      <td>23582.0</td>\n",
       "      <td>276755.0</td>\n",
       "      <td>115652.0</td>\n",
       "    </tr>\n",
       "  </tbody>\n",
       "</table>\n",
       "</div>"
      ],
      "text/plain": [
       "      Cód.                   Município  PIB (Mil Reais)  Impostos (Mil Reais)  \\\n",
       "0  1100015  Alta Floresta D'Oeste (RO)         570272.0               35109.0   \n",
       "1  1100023              Ariquemes (RO)        2818049.0              295656.0   \n",
       "2  1100031                 Cabixi (RO)         167190.0                7237.0   \n",
       "3  1100049                 Cacoal (RO)        2519353.0              274451.0   \n",
       "4  1100056             Cerejeiras (RO)         600670.0               89923.0   \n",
       "\n",
       "   VA da agropecuária (Mil Reais)  VA da indústria (Mil Reais)  \\\n",
       "0                        203394.0                      20716.0   \n",
       "1                        199723.0                     404752.0   \n",
       "2                         81177.0                       5438.0   \n",
       "3                        236215.0                     275537.0   \n",
       "4                         94758.0                      23582.0   \n",
       "\n",
       "   VA dos serviços (Mil Reais)  VA da administração pública (Mil Reais)  \n",
       "0                     150192.0                                 160860.0  \n",
       "1                    1207405.0                                 710513.0  \n",
       "2                      28667.0                                  44671.0  \n",
       "3                    1157344.0                                 575806.0  \n",
       "4                     276755.0                                 115652.0  "
      ]
     },
     "execution_count": 6,
     "metadata": {},
     "output_type": "execute_result"
    }
   ],
   "source": [
    "dfProdutoInterno.head()"
   ]
  },
  {
   "cell_type": "markdown",
   "id": "2cd8d630",
   "metadata": {},
   "source": [
    "# Estimativas de População (2020)"
   ]
  },
  {
   "cell_type": "code",
   "execution_count": 7,
   "id": "e9bec91b",
   "metadata": {},
   "outputs": [],
   "source": [
    "dfPopulacao = pd.read_csv('data/populacao_2020.csv')"
   ]
  },
  {
   "cell_type": "code",
   "execution_count": 8,
   "id": "99c46b97",
   "metadata": {},
   "outputs": [
    {
     "data": {
      "text/html": [
       "<div>\n",
       "<style scoped>\n",
       "    .dataframe tbody tr th:only-of-type {\n",
       "        vertical-align: middle;\n",
       "    }\n",
       "\n",
       "    .dataframe tbody tr th {\n",
       "        vertical-align: top;\n",
       "    }\n",
       "\n",
       "    .dataframe thead th {\n",
       "        text-align: right;\n",
       "    }\n",
       "</style>\n",
       "<table border=\"1\" class=\"dataframe\">\n",
       "  <thead>\n",
       "    <tr style=\"text-align: right;\">\n",
       "      <th></th>\n",
       "      <th>Cód.</th>\n",
       "      <th>Município</th>\n",
       "      <th>População (Pessoas)</th>\n",
       "    </tr>\n",
       "  </thead>\n",
       "  <tbody>\n",
       "    <tr>\n",
       "      <th>0</th>\n",
       "      <td>1100015</td>\n",
       "      <td>Alta Floresta D'Oeste (RO)</td>\n",
       "      <td>22728.0</td>\n",
       "    </tr>\n",
       "    <tr>\n",
       "      <th>1</th>\n",
       "      <td>1100023</td>\n",
       "      <td>Ariquemes (RO)</td>\n",
       "      <td>109523.0</td>\n",
       "    </tr>\n",
       "    <tr>\n",
       "      <th>2</th>\n",
       "      <td>1100031</td>\n",
       "      <td>Cabixi (RO)</td>\n",
       "      <td>5188.0</td>\n",
       "    </tr>\n",
       "    <tr>\n",
       "      <th>3</th>\n",
       "      <td>1100049</td>\n",
       "      <td>Cacoal (RO)</td>\n",
       "      <td>85893.0</td>\n",
       "    </tr>\n",
       "    <tr>\n",
       "      <th>4</th>\n",
       "      <td>1100056</td>\n",
       "      <td>Cerejeiras (RO)</td>\n",
       "      <td>16204.0</td>\n",
       "    </tr>\n",
       "  </tbody>\n",
       "</table>\n",
       "</div>"
      ],
      "text/plain": [
       "      Cód.                   Município  População (Pessoas)\n",
       "0  1100015  Alta Floresta D'Oeste (RO)              22728.0\n",
       "1  1100023              Ariquemes (RO)             109523.0\n",
       "2  1100031                 Cabixi (RO)               5188.0\n",
       "3  1100049                 Cacoal (RO)              85893.0\n",
       "4  1100056             Cerejeiras (RO)              16204.0"
      ]
     },
     "execution_count": 8,
     "metadata": {},
     "output_type": "execute_result"
    }
   ],
   "source": [
    "dfPopulacao.head()"
   ]
  },
  {
   "cell_type": "markdown",
   "id": "894d0fcd",
   "metadata": {},
   "source": [
    "# DTB - Divisão Territorial Brasileira"
   ]
  },
  {
   "cell_type": "code",
   "execution_count": null,
   "id": "9eecc57d",
   "metadata": {},
   "outputs": [],
   "source": []
  }
 ],
 "metadata": {
  "kernelspec": {
   "display_name": "Python 3 (ipykernel)",
   "language": "python",
   "name": "python3"
  },
  "language_info": {
   "codemirror_mode": {
    "name": "ipython",
    "version": 3
   },
   "file_extension": ".py",
   "mimetype": "text/x-python",
   "name": "python",
   "nbconvert_exporter": "python",
   "pygments_lexer": "ipython3",
   "version": "3.9.12"
  }
 },
 "nbformat": 4,
 "nbformat_minor": 5
}
