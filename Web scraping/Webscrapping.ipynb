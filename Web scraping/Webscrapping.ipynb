{
 "cells": [
  {
   "cell_type": "code",
   "execution_count": 1,
   "id": "eedd3e2b",
   "metadata": {},
   "outputs": [],
   "source": [
    "from selenium import webdriver\n",
    "from selenium.webdriver.firefox.options import Options\n",
    "from selenium.webdriver.common.by import By"
   ]
  },
  {
   "cell_type": "code",
   "execution_count": 2,
   "id": "1de0dd2c",
   "metadata": {},
   "outputs": [],
   "source": [
    "import requests\n",
    "import pandas as pd\n",
    "from bs4 import BeautifulSoup\n",
    "import re"
   ]
  },
  {
   "cell_type": "markdown",
   "id": "55cd24d1",
   "metadata": {},
   "source": [
    "headers = {'User-Agent':\"Mozilla/5.0 (Windows NT 10.0; Win64; x64) AppleWebKit/537.36 (KHTML, like Gecko) Chrome/109.0.0.0 Safari/537.36\"}"
   ]
  },
  {
   "cell_type": "markdown",
   "id": "8f12b1a2",
   "metadata": {},
   "source": [
    "Copa do Brasil => 22/02 até 24/09\n",
    "Brasileirão\n"
   ]
  },
  {
   "cell_type": "code",
   "execution_count": 24,
   "id": "e0a9cb75",
   "metadata": {},
   "outputs": [],
   "source": [
    "options = Options()\n",
    "options.headless = True\n",
    "\n",
    "#driver = webdriver.Firefox(options=options)\n",
    "driver = webdriver.Firefox()\n",
    "\n",
    "driver.get(\"https://www.pinnacle.com/pt/soccer/matchups/highlights\")#, headers = headers)\n",
    "#driver.get(\"https://www.pinnacle.com\")"
   ]
  },
  {
   "cell_type": "code",
   "execution_count": 25,
   "id": "4838eccb",
   "metadata": {
    "scrolled": true
   },
   "outputs": [],
   "source": [
    "div_mae = driver.find_element(By.XPATH,'/html/body/div[2]/div/div[2]/main')\n",
    "html_conteudo = div_mae.get_attribute('outerHTML')\n",
    "soup = BeautifulSoup(html_conteudo, 'html.parser')"
   ]
  },
  {
   "cell_type": "code",
   "execution_count": 26,
   "id": "b2685c42",
   "metadata": {},
   "outputs": [],
   "source": [
    "times = soup.find_all('span', class_='event-row-participant')\n",
    "odds = soup.find_all('div', class_=re.compile('style_button-wrapper'))"
   ]
  },
  {
   "cell_type": "code",
   "execution_count": 27,
   "id": "b4b65a83",
   "metadata": {},
   "outputs": [],
   "source": [
    "apostas = {'Time A':[],'Time B':[],'vitoria':[], 'empate':[], 'derrota':[]}"
   ]
  },
  {
   "cell_type": "code",
   "execution_count": 28,
   "id": "49fe6ad1",
   "metadata": {},
   "outputs": [],
   "source": [
    "for i, a in enumerate(times):\n",
    "    x = a.get_text().split(\"(\")\n",
    "    if (int(i)%2 == 0):\n",
    "        apostas['Time A'].append(x[0])\n",
    "    if (int(i)%2 == 1):\n",
    "        apostas['Time B'].append(x[0])"
   ]
  },
  {
   "cell_type": "code",
   "execution_count": 29,
   "id": "1aa08f82",
   "metadata": {},
   "outputs": [],
   "source": [
    "for i, a in enumerate(odds):\n",
    "    if (int(i)%7 == 0):\n",
    "        apostas['vitoria'].append(a.get_text())\n",
    "    if (int(i)%7 == 1):\n",
    "        apostas['empate'].append(a.get_text())\n",
    "    if (int(i)%7 == 2):\n",
    "        apostas['derrota'].append(a.get_text())"
   ]
  },
  {
   "cell_type": "code",
   "execution_count": 30,
   "id": "58d296ef",
   "metadata": {},
   "outputs": [],
   "source": [
    "tabela = pd.DataFrame(apostas)"
   ]
  },
  {
   "cell_type": "code",
   "execution_count": 31,
   "id": "4c33e84b",
   "metadata": {},
   "outputs": [
    {
     "data": {
      "text/html": [
       "<div>\n",
       "<style scoped>\n",
       "    .dataframe tbody tr th:only-of-type {\n",
       "        vertical-align: middle;\n",
       "    }\n",
       "\n",
       "    .dataframe tbody tr th {\n",
       "        vertical-align: top;\n",
       "    }\n",
       "\n",
       "    .dataframe thead th {\n",
       "        text-align: right;\n",
       "    }\n",
       "</style>\n",
       "<table border=\"1\" class=\"dataframe\">\n",
       "  <thead>\n",
       "    <tr style=\"text-align: right;\">\n",
       "      <th></th>\n",
       "      <th>Time A</th>\n",
       "      <th>Time B</th>\n",
       "      <th>vitoria</th>\n",
       "      <th>empate</th>\n",
       "      <th>derrota</th>\n",
       "    </tr>\n",
       "  </thead>\n",
       "  <tbody>\n",
       "    <tr>\n",
       "      <th>0</th>\n",
       "      <td>Manchester United</td>\n",
       "      <td>Leeds United</td>\n",
       "      <td>1.534</td>\n",
       "      <td>4.570</td>\n",
       "      <td>6.440</td>\n",
       "    </tr>\n",
       "    <tr>\n",
       "      <th>1</th>\n",
       "      <td>West Ham United</td>\n",
       "      <td>Chelsea</td>\n",
       "      <td>3.370</td>\n",
       "      <td>3.400</td>\n",
       "      <td>2.320</td>\n",
       "    </tr>\n",
       "    <tr>\n",
       "      <th>2</th>\n",
       "      <td>Arsenal</td>\n",
       "      <td>Brentford</td>\n",
       "      <td>1.427</td>\n",
       "      <td>4.960</td>\n",
       "      <td>8.090</td>\n",
       "    </tr>\n",
       "    <tr>\n",
       "      <th>3</th>\n",
       "      <td>Crystal Palace</td>\n",
       "      <td>Brighton and Hove Albion</td>\n",
       "      <td>3.910</td>\n",
       "      <td>3.560</td>\n",
       "      <td>2.060</td>\n",
       "    </tr>\n",
       "    <tr>\n",
       "      <th>4</th>\n",
       "      <td>Fulham</td>\n",
       "      <td>Nottingham Forest</td>\n",
       "      <td>1.952</td>\n",
       "      <td>3.640</td>\n",
       "      <td>4.220</td>\n",
       "    </tr>\n",
       "    <tr>\n",
       "      <th>5</th>\n",
       "      <td>Leicester City</td>\n",
       "      <td>Tottenham Hotspur</td>\n",
       "      <td>3.450</td>\n",
       "      <td>3.670</td>\n",
       "      <td>2.170</td>\n",
       "    </tr>\n",
       "    <tr>\n",
       "      <th>6</th>\n",
       "      <td>Southampton</td>\n",
       "      <td>Wolves</td>\n",
       "      <td>3.020</td>\n",
       "      <td>3.230</td>\n",
       "      <td>2.630</td>\n",
       "    </tr>\n",
       "    <tr>\n",
       "      <th>7</th>\n",
       "      <td>Bournemouth</td>\n",
       "      <td>Newcastle United</td>\n",
       "      <td>6.590</td>\n",
       "      <td>4.220</td>\n",
       "      <td>1.571</td>\n",
       "    </tr>\n",
       "    <tr>\n",
       "      <th>8</th>\n",
       "      <td>Leeds United</td>\n",
       "      <td>Manchester United</td>\n",
       "      <td>4.260</td>\n",
       "      <td>4.020</td>\n",
       "      <td>1.847</td>\n",
       "    </tr>\n",
       "    <tr>\n",
       "      <th>9</th>\n",
       "      <td>AC Milan</td>\n",
       "      <td>Torino</td>\n",
       "      <td>1.833</td>\n",
       "      <td>3.620</td>\n",
       "      <td>4.960</td>\n",
       "    </tr>\n",
       "    <tr>\n",
       "      <th>10</th>\n",
       "      <td>Empoli</td>\n",
       "      <td>Spezia</td>\n",
       "      <td>2.060</td>\n",
       "      <td>3.580</td>\n",
       "      <td>3.860</td>\n",
       "    </tr>\n",
       "    <tr>\n",
       "      <th>11</th>\n",
       "      <td>Lecce</td>\n",
       "      <td>AS Roma</td>\n",
       "      <td>4.520</td>\n",
       "      <td>3.330</td>\n",
       "      <td>1.990</td>\n",
       "    </tr>\n",
       "    <tr>\n",
       "      <th>12</th>\n",
       "      <td>Lazio</td>\n",
       "      <td>Atalanta BC</td>\n",
       "      <td>2.420</td>\n",
       "      <td>3.540</td>\n",
       "      <td>3.070</td>\n",
       "    </tr>\n",
       "    <tr>\n",
       "      <th>13</th>\n",
       "      <td>Udinese</td>\n",
       "      <td>Sassuolo</td>\n",
       "      <td>2.090</td>\n",
       "      <td>3.480</td>\n",
       "      <td>3.880</td>\n",
       "    </tr>\n",
       "    <tr>\n",
       "      <th>14</th>\n",
       "      <td>Bologna</td>\n",
       "      <td>AC Monza</td>\n",
       "      <td>2.240</td>\n",
       "      <td>3.400</td>\n",
       "      <td>3.540</td>\n",
       "    </tr>\n",
       "    <tr>\n",
       "      <th>15</th>\n",
       "      <td>Cádiz</td>\n",
       "      <td>Girona</td>\n",
       "      <td>3.030</td>\n",
       "      <td>3.300</td>\n",
       "      <td>2.580</td>\n",
       "    </tr>\n",
       "    <tr>\n",
       "      <th>16</th>\n",
       "      <td>Almeria</td>\n",
       "      <td>Real Betis</td>\n",
       "      <td>2.950</td>\n",
       "      <td>3.390</td>\n",
       "      <td>2.580</td>\n",
       "    </tr>\n",
       "    <tr>\n",
       "      <th>17</th>\n",
       "      <td>Sevilla</td>\n",
       "      <td>Mallorca</td>\n",
       "      <td>1.961</td>\n",
       "      <td>3.190</td>\n",
       "      <td>5.020</td>\n",
       "    </tr>\n",
       "    <tr>\n",
       "      <th>18</th>\n",
       "      <td>Valencia</td>\n",
       "      <td>Athletic Club Bilbao</td>\n",
       "      <td>3.120</td>\n",
       "      <td>3.340</td>\n",
       "      <td>2.490</td>\n",
       "    </tr>\n",
       "    <tr>\n",
       "      <th>19</th>\n",
       "      <td>Getafe</td>\n",
       "      <td>Rayo Vallecano</td>\n",
       "      <td>2.990</td>\n",
       "      <td>2.850</td>\n",
       "      <td>2.970</td>\n",
       "    </tr>\n",
       "  </tbody>\n",
       "</table>\n",
       "</div>"
      ],
      "text/plain": [
       "                Time A                     Time B vitoria empate derrota\n",
       "0   Manchester United               Leeds United    1.534  4.570   6.440\n",
       "1     West Ham United                    Chelsea    3.370  3.400   2.320\n",
       "2             Arsenal                  Brentford    1.427  4.960   8.090\n",
       "3      Crystal Palace   Brighton and Hove Albion    3.910  3.560   2.060\n",
       "4              Fulham          Nottingham Forest    1.952  3.640   4.220\n",
       "5      Leicester City          Tottenham Hotspur    3.450  3.670   2.170\n",
       "6         Southampton                     Wolves    3.020  3.230   2.630\n",
       "7         Bournemouth           Newcastle United    6.590  4.220   1.571\n",
       "8        Leeds United          Manchester United    4.260  4.020   1.847\n",
       "9            AC Milan                     Torino    1.833  3.620   4.960\n",
       "10             Empoli                     Spezia    2.060  3.580   3.860\n",
       "11              Lecce                    AS Roma    4.520  3.330   1.990\n",
       "12              Lazio                Atalanta BC    2.420  3.540   3.070\n",
       "13            Udinese                   Sassuolo    2.090  3.480   3.880\n",
       "14            Bologna                   AC Monza    2.240  3.400   3.540\n",
       "15              Cádiz                     Girona    3.030  3.300   2.580\n",
       "16            Almeria                 Real Betis    2.950  3.390   2.580\n",
       "17            Sevilla                   Mallorca    1.961  3.190   5.020\n",
       "18           Valencia       Athletic Club Bilbao    3.120  3.340   2.490\n",
       "19             Getafe             Rayo Vallecano    2.990  2.850   2.970"
      ]
     },
     "execution_count": 31,
     "metadata": {},
     "output_type": "execute_result"
    }
   ],
   "source": [
    "tabela.head(100)"
   ]
  },
  {
   "cell_type": "markdown",
   "id": "77605234",
   "metadata": {},
   "source": [
    "https://www.flashscore.com.br/"
   ]
  },
  {
   "cell_type": "code",
   "execution_count": 113,
   "id": "1196c88f",
   "metadata": {},
   "outputs": [],
   "source": [
    "tabela.to_csv(\"teste.csv\")"
   ]
  },
  {
   "cell_type": "code",
   "execution_count": null,
   "id": "be5dbb97",
   "metadata": {},
   "outputs": [],
   "source": []
  }
 ],
 "metadata": {
  "kernelspec": {
   "display_name": "Python 3 (ipykernel)",
   "language": "python",
   "name": "python3"
  },
  "language_info": {
   "codemirror_mode": {
    "name": "ipython",
    "version": 3
   },
   "file_extension": ".py",
   "mimetype": "text/x-python",
   "name": "python",
   "nbconvert_exporter": "python",
   "pygments_lexer": "ipython3",
   "version": "3.9.13"
  }
 },
 "nbformat": 4,
 "nbformat_minor": 5
}
